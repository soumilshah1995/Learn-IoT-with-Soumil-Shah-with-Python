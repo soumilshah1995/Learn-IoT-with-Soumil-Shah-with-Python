{
 "cells": [
  {
   "cell_type": "markdown",
   "metadata": {},
   "source": [
    "# Introducing Tkinter with Raspberry pi"
   ]
  },
  {
   "cell_type": "markdown",
   "metadata": {},
   "source": [
    "Objective: Create a simple UI to Turn LED on and OFF using Tkinter"
   ]
  },
  {
   "cell_type": "markdown",
   "metadata": {},
   "source": [
    "## CIRCUIT DIAGRAM:"
   ]
  },
  {
   "cell_type": "code",
   "execution_count": 1,
   "metadata": {},
   "outputs": [
    {
     "data": {
      "text/html": [
       "<img src=\"Photo/14.png\" , width=400, height=200>\n"
      ],
      "text/plain": [
       "<IPython.core.display.HTML object>"
      ]
     },
     "metadata": {},
     "output_type": "display_data"
    }
   ],
   "source": [
    "%%html\n",
    "<img src=\"Photo/14.png\" , width=400, height=200>"
   ]
  },
  {
   "cell_type": "code",
   "execution_count": null,
   "metadata": {},
   "outputs": [],
   "source": [
    "# import the important library\n",
    "import tkinter as tk\n",
    "\n",
    "mainwindow=tk.Tk()\n",
    "mainwindow.title('My First UI Test ')\n",
    "mainwindow.geometry('640x340')\n",
    "\n",
    "\n",
    "my_label=tk.Label(mainwindow,text=\" On/Off \",\n",
    "                  font=(\"Arial\",22), bg= \"Green\",fg=\"white\")\n",
    "my_label.grid(row=0,column=0,sticky='NSEW',padx=10,pady=10)\n",
    "\n",
    "button_on=tk.Button(mainwindow,text=\"On\",bg=\"black\",fg=\"white\")\n",
    "button_on.grid(row=1,column=0,sticky='NSEW',padx=10,pady=10)\n",
    "\n",
    "\n",
    "button_off=tk.Button(mainwindow,text=\"OFF\",bg=\"black\",fg=\"white\")\n",
    "button_off.grid(row=1,column=1,columnspa=1,sticky='NSEW',padx=10,pady=10)\n",
    "\n",
    "\n",
    "mainwindow.mainloop()\n"
   ]
  },
  {
   "cell_type": "code",
   "execution_count": 2,
   "metadata": {},
   "outputs": [
    {
     "data": {
      "text/html": [
       "<img src=\"Photo/15.png\" , width=400, height=200>\n"
      ],
      "text/plain": [
       "<IPython.core.display.HTML object>"
      ]
     },
     "metadata": {},
     "output_type": "display_data"
    }
   ],
   "source": [
    "%%html\n",
    "<img src=\"Photo/15.png\" , width=400, height=200>"
   ]
  },
  {
   "cell_type": "markdown",
   "metadata": {},
   "source": [
    "### Step 2: Adding Functionality to execute a function when Button is pressed using Lambda Function"
   ]
  },
  {
   "cell_type": "code",
   "execution_count": null,
   "metadata": {},
   "outputs": [],
   "source": [
    "# import the important library\n",
    "import tkinter as tk\n",
    "\n",
    "mainwindow=tk.Tk()\n",
    "mainwindow.title('Test ')\n",
    "mainwindow.geometry('640x340')\n",
    "\n",
    "\n",
    "my_label=tk.Label(mainwindow,text=\"My First UI\",\n",
    "                  font=(\"Arial\",22), bg= \"Green\",fg=\"white\")\n",
    "my_label.grid(row=0,column=0,sticky='NSEW',padx=10,pady=10)\n",
    "\n",
    "button_on=tk.Button(mainwindow,text=\"On\",bg=\"black\",fg=\"white\",\n",
    "                    command=lambda :my_on())\n",
    "button_on.grid(row=1,column=0,sticky='NSEW',padx=10,pady=10)\n",
    "\n",
    "\n",
    "button_off=tk.Button(mainwindow,text=\"OFF\",bg=\"black\",fg=\"white\",\n",
    "                     command=lambda:my_off())\n",
    "button_off.grid(row=1,column=1,columnspa=1,sticky='NSEW',padx=10,pady=10)\n",
    "\n",
    "\n",
    "def my_on():\n",
    "    print('Led Turn On !!!!! ')\n",
    "\n",
    "def my_off():\n",
    "    print('Led Turned Off !!!!!!  ')\n",
    "\n",
    "\n",
    "\n",
    "mainwindow.mainloop()\n"
   ]
  },
  {
   "cell_type": "markdown",
   "metadata": {},
   "source": [
    "### Step 3: Add the Final code to Turn LED On/Off"
   ]
  },
  {
   "cell_type": "code",
   "execution_count": null,
   "metadata": {},
   "outputs": [],
   "source": [
    "# import the important library\n",
    "import tkinter as tk\n",
    "import RPi.GPIO as GPIO\n",
    "import time\n",
    "\n",
    "GPIO.setmode(GPIO.BOARD) # to use Raspberry Pi board pin numbers\n",
    "GPIO.setup(11, GPIO.OUT) # set up GPIO output channel\n",
    "\n",
    "\n",
    "mainwindow=tk.Tk()\n",
    "mainwindow.title('Test ')\n",
    "mainwindow.geometry('640x340')\n",
    "\n",
    "\n",
    "my_label=tk.Label(mainwindow,text=\"My First UI\",\n",
    "                  font=(\"Arial\",22), bg= \"Green\",fg=\"white\")\n",
    "my_label.grid(row=0,column=0,sticky='NSEW',padx=10,pady=10)\n",
    "\n",
    "button_on=tk.Button(mainwindow,text=\"On\",bg=\"black\",fg=\"white\",\n",
    "                    command=lambda :my_on())\n",
    "button_on.grid(row=1,column=0,sticky='NSEW',padx=10,pady=10)\n",
    "\n",
    "\n",
    "button_off=tk.Button(mainwindow,text=\"OFF\",bg=\"black\",fg=\"white\",\n",
    "                     command=lambda:my_off())\n",
    "button_off.grid(row=1,column=1,columnspa=1,sticky='NSEW',padx=10,pady=10)\n",
    "\n",
    "\n",
    "def my_on():\n",
    "    print('Led Turn On !!!!! ')\n",
    "    GPIO.output(11, GPIO.LOW) # set RPi board pin 11 low. Turn off LED.\n",
    "    time.sleep(1)\n",
    "    print('Yes you did it !')\n",
    "\n",
    "\n",
    "def my_off():\n",
    "    print('Led Turned Off !!!!!!  ')\n",
    "    GPIO.output(11, GPIO.HIGH) # set RPi board pin 11 high. Turn on LED.\n",
    "    time.sleep(2)\n",
    "    print('Great Work ! ')\n",
    "\n",
    "mainwindow.mainloop()\n"
   ]
  }
 ],
 "metadata": {
  "kernelspec": {
   "display_name": "Python 3",
   "language": "python",
   "name": "python3"
  },
  "language_info": {
   "codemirror_mode": {
    "name": "ipython",
    "version": 3
   },
   "file_extension": ".py",
   "mimetype": "text/x-python",
   "name": "python",
   "nbconvert_exporter": "python",
   "pygments_lexer": "ipython3",
   "version": "3.7.3"
  }
 },
 "nbformat": 4,
 "nbformat_minor": 2
}
