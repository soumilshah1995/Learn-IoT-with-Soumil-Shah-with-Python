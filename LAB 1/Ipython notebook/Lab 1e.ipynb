{
 "cells": [
  {
   "cell_type": "markdown",
   "metadata": {},
   "source": [
    "# Adding Database to our Project "
   ]
  },
  {
   "cell_type": "markdown",
   "metadata": {},
   "source": [
    "### Objective "
   ]
  },
  {
   "cell_type": "markdown",
   "metadata": {},
   "source": [
    "We want to add time when we turned Lights on to our  Database Let us learn how to do that for this, we would be using SQlite3 and make sure to download DB browser on Raspberry pi to open your database file."
   ]
  },
  {
   "cell_type": "code",
   "execution_count": 1,
   "metadata": {},
   "outputs": [
    {
     "data": {
      "text/html": [
       "<img src=\"Photo/16.png\" , width=400, height=200>\n"
      ],
      "text/plain": [
       "<IPython.core.display.HTML object>"
      ]
     },
     "metadata": {},
     "output_type": "display_data"
    }
   ],
   "source": [
    "%%html\n",
    "<img src=\"Photo/16.png\" , width=400, height=200>"
   ]
  },
  {
   "cell_type": "code",
   "execution_count": 4,
   "metadata": {},
   "outputs": [
    {
     "data": {
      "text/html": [
       "<img src=\"Photo/17.png\" , width=400, height=200>\n"
      ],
      "text/plain": [
       "<IPython.core.display.HTML object>"
      ]
     },
     "metadata": {},
     "output_type": "display_data"
    }
   ],
   "source": [
    "%%html\n",
    "<img src=\"Photo/17.png\" , width=400, height=200>"
   ]
  },
  {
   "cell_type": "markdown",
   "metadata": {},
   "source": [
    "## CIRCUIT DIAGRAM:"
   ]
  },
  {
   "cell_type": "code",
   "execution_count": 10,
   "metadata": {},
   "outputs": [
    {
     "data": {
      "text/html": [
       "\n",
       "<img src=\"Photo/18.png\" , width=400, height=200>\n"
      ],
      "text/plain": [
       "<IPython.core.display.HTML object>"
      ]
     },
     "metadata": {},
     "output_type": "display_data"
    }
   ],
   "source": [
    "%%html\n",
    "\n",
    "<img src=\"Photo/18.png\" , width=400, height=200>"
   ]
  },
  {
   "cell_type": "code",
   "execution_count": null,
   "metadata": {},
   "outputs": [],
   "source": [
    "# import the important library\n",
    "import tkinter as tk\n",
    "import RPi.GPIO as GPIO\n",
    "import time\n",
    "import datetime\n",
    "import sqlite3\n",
    "\n",
    "\n",
    "GPIO.setmode(GPIO.BOARD) # to use Raspberry Pi board pin numbers\n",
    "GPIO.setup(11, GPIO.OUT) # set up GPIO output channel\n",
    "\n",
    "\n",
    "mainwindow=tk.Tk()\n",
    "mainwindow.title('Test ')\n",
    "mainwindow.geometry('640x340')\n",
    "\n",
    "\n",
    "my_label=tk.Label(mainwindow,text=\"My First UI\",\n",
    "                  font=(\"Arial\",22), bg= \"Green\",fg=\"white\")\n",
    "my_label.grid(row=0,column=0,sticky='NSEW',padx=10,pady=10)\n",
    "\n",
    "button_on=tk.Button(mainwindow,text=\"On\",bg=\"black\",fg=\"white\",\n",
    "                    command=lambda :my_on())\n",
    "button_on.grid(row=1,column=0,sticky='NSEW',padx=10,pady=10)\n",
    "\n",
    "\n",
    "button_off=tk.Button(mainwindow,text=\"OFF\",bg=\"black\",fg=\"white\",\n",
    "                     command=lambda:my_off())\n",
    "button_off.grid(row=1,column=1,columnspa=1,sticky='NSEW',padx=10,pady=10)\n",
    "\n",
    "\n",
    "def my_on():\n",
    "    t=datetime.datetime.now()\n",
    "    my_t = \"{}-{}-{}\".format(t.hour,t.minute,t.second)\n",
    "    database_on(my_t)\n",
    "\n",
    "    print('Led Turn On !!!!! ')\n",
    "    GPIO.output(11, GPIO.LOW) # set RPi board pin 11 low. Turn off LED.\n",
    "    time.sleep(1)\n",
    "    print('Yes you did it !')\n",
    "\n",
    "\n",
    "def my_off():\n",
    "\n",
    "    t=datetime.datetime.now()\n",
    "    my_off = \"{}-{}-{}\".format(t.hour,t.minute,t.second)\n",
    "    database_off(my_off)\n",
    "\n",
    "    print('Led Turned Off !!!!!!  ')\n",
    "    GPIO.output(11, GPIO.HIGH) # set RPi board pin 11 high. Turn on LED.\n",
    "    time.sleep(2)\n",
    "    print('Great Work ! ')\n",
    "\n",
    "def database_on(on_time):\n",
    "\n",
    "    conn = sqlite3.connect('led.db')\n",
    "    cursor = conn.cursor()\n",
    "\n",
    "    cursor.execute(\"\"\" CREATE TABLE IF NOT EXISTS\n",
    "     ledon\n",
    "     (id INTEGER PRIMARY KEY AUTOINCREMENT NOT NULL,\n",
    "     on_time TEXT)\"\"\")\n",
    "\n",
    "    cursor.execute(\"\"\"\n",
    "    INSERT INTO ledon (on_time) \n",
    "     VALUES (?)\"\"\", (on_time))\n",
    "\n",
    "    conn.commit()\n",
    "    cursor.close()\n",
    "    conn.close()\n",
    "\n",
    "def database_off(of_time):\n",
    "\n",
    "    conn = sqlite3.connect('led.db')\n",
    "    cursor = conn.cursor()\n",
    "\n",
    "    cursor.execute(\"\"\" CREATE TABLE IF NOT EXISTS\n",
    "     ledoff\n",
    "     (id INTEGER PRIMARY KEY AUTOINCREMENT NOT NULL,\n",
    "     off_time TEXT)\"\"\")\n",
    "\n",
    "    cursor.execute(\"\"\"\n",
    "    INSERT INTO ledoff (off_time) \n",
    "     VALUES (?)\"\"\", (of_time))\n",
    "\n",
    "    conn.commit()\n",
    "    cursor.close()\n",
    "    conn.close()\n",
    "\n",
    "mainwindow.mainloop()\n"
   ]
  }
 ],
 "metadata": {
  "kernelspec": {
   "display_name": "Python 3",
   "language": "python",
   "name": "python3"
  },
  "language_info": {
   "codemirror_mode": {
    "name": "ipython",
    "version": 3
   },
   "file_extension": ".py",
   "mimetype": "text/x-python",
   "name": "python",
   "nbconvert_exporter": "python",
   "pygments_lexer": "ipython3",
   "version": "3.7.3"
  }
 },
 "nbformat": 4,
 "nbformat_minor": 2
}
