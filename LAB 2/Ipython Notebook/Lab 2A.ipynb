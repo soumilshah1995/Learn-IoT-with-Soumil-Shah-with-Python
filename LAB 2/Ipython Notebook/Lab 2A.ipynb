{
 "cells": [
  {
   "cell_type": "markdown",
   "metadata": {},
   "source": [
    "# Distance Sensor Data Logging on a Database using SQLITE3"
   ]
  },
  {
   "cell_type": "code",
   "execution_count": 1,
   "metadata": {},
   "outputs": [
    {
     "data": {
      "text/html": [
       "<img src=\"Photo/2.png\" , width=600, height=300>\n"
      ],
      "text/plain": [
       "<IPython.core.display.HTML object>"
      ]
     },
     "metadata": {},
     "output_type": "display_data"
    }
   ],
   "source": [
    "%%html\n",
    "<img src=\"Photo/2.png\" , width=600, height=300>"
   ]
  },
  {
   "cell_type": "markdown",
   "metadata": {},
   "source": [
    "So far, we learned how to interface Distance Sensor with Raspberry pi let us include a database. In this experiment we try to log the sensor value to the database with time when it was recorded. Please make sure to follow or connect the pins correctly in this example I am using trigger pin GPIO 17 and echo as GPIO as 27"
   ]
  },
  {
   "cell_type": "code",
   "execution_count": null,
   "metadata": {},
   "outputs": [],
   "source": [
    "import RPi.GPIO as GPIO\n",
    "import time\n",
    "import datetime\n",
    "\n",
    "#GPIO Mode (BOARD / BCM)\n",
    "GPIO.setmode(GPIO.BCM)\n",
    "\n",
    "#set GPIO Pins\n",
    "GPIO_TRIGGER = 23\n",
    "GPIO_ECHO = 24\n",
    "\n",
    "#set GPIO direction (IN / OUT)\n",
    "GPIO.setup(GPIO_TRIGGER, GPIO.OUT)\n",
    "GPIO.setup(GPIO_ECHO, GPIO.IN)\n",
    "\n",
    "def get_time():\n",
    "    t = datetime.datetime.now()\n",
    "    my_time ='{}:{}:{}'.format(t.hour,t.minute,t.second)\n",
    "    return my_time\n",
    "\n",
    "\n",
    "def distance():\n",
    "    # set Trigger to HIGH\n",
    "    GPIO.output(GPIO_TRIGGER, True)\n",
    "\n",
    "    # set Trigger after 0.01ms to LOW\n",
    "    time.sleep(0.00001)\n",
    "    GPIO.output(GPIO_TRIGGER, False)\n",
    "\n",
    "    StartTime = time.time()\n",
    "    StopTime = time.time()\n",
    "\n",
    "    # save StartTime\n",
    "    while GPIO.input(GPIO_ECHO) == 0:\n",
    "        StartTime = time.time()\n",
    "\n",
    "    # save time of arrival\n",
    "    while GPIO.input(GPIO_ECHO) == 1:\n",
    "        StopTime = time.time()\n",
    "\n",
    "    # time difference between start and arrival\n",
    "    TimeElapsed = StopTime - StartTime\n",
    "    # multiply with the sonic speed (34300 cm/s)\n",
    "    # and divide by 2, because there and back\n",
    "    distance = (TimeElapsed * 34300) / 2\n",
    "\n",
    "    my_time = get_time()\n",
    "    my_database(distance, my_time)\n",
    "\n",
    "    return distance\n",
    "\n",
    "def my_database(distance,my_time):\n",
    "\n",
    "    \"\"\"\n",
    "\n",
    "    :return: Nothing\n",
    "    \"\"\"\n",
    "    # define the connection\n",
    "    conn = sqlite3.connect(\"distance.db\")\n",
    "\n",
    "    #define the cursor\n",
    "    cursor = conn.cursor()\n",
    "\n",
    "    # create Tables\n",
    "    cursor.execute(\"\"\"\n",
    "     CREATE TABLE IF NOT EXISTS my_table (id INTEGER PRIMARY KEY AUTOINCREMENT NOT NULL,\n",
    "     distance  TEXT, \n",
    "     my_time TEXT)\"\"\")\n",
    "\n",
    "    # Add data to database\n",
    "    cursor.execute(\"\"\"\n",
    "    INSERT INTO my_table (distance,my_time) VALUES (?, ?)\"\"\",(distance, my_time))\n",
    "\n",
    "    # perform 3C\n",
    "    #COMMIT, CLOSE CLOSE\n",
    "    conn.commit()\n",
    "    cursor.close()\n",
    "    conn.close()\n",
    "\n",
    "if __name__ == '__main__':\n",
    "    try:\n",
    "        while True:\n",
    "            dist = distance()\n",
    "            print (\"Measured Distance = %.1f cm\" % dist)\n",
    "            time.sleep(1)\n",
    "\n",
    "        # Reset by pressing CTRL + C\n",
    "    except KeyboardInterrupt:\n",
    "        print(\"Measurement stopped by User\")\n",
    "        GPIO.cleanup()\n",
    "\n",
    "\n"
   ]
  },
  {
   "cell_type": "code",
   "execution_count": null,
   "metadata": {},
   "outputs": [],
   "source": []
  },
  {
   "cell_type": "code",
   "execution_count": null,
   "metadata": {},
   "outputs": [],
   "source": []
  }
 ],
 "metadata": {
  "kernelspec": {
   "display_name": "Python 3",
   "language": "python",
   "name": "python3"
  },
  "language_info": {
   "codemirror_mode": {
    "name": "ipython",
    "version": 3
   },
   "file_extension": ".py",
   "mimetype": "text/x-python",
   "name": "python",
   "nbconvert_exporter": "python",
   "pygments_lexer": "ipython3",
   "version": "3.7.3"
  }
 },
 "nbformat": 4,
 "nbformat_minor": 2
}
