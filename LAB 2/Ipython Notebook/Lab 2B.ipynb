{
 "cells": [
  {
   "cell_type": "markdown",
   "metadata": {},
   "source": [
    "# Interfacing DHT-11/ DHT-22 Sensor with Raspberry Pi"
   ]
  },
  {
   "cell_type": "markdown",
   "metadata": {},
   "source": [
    "Objective: To learn how to interface DHT-11/DHT-22 Sensor with Raspberry pi. Later we shall add SQLITE Database and try to upload the code on Cloud."
   ]
  },
  {
   "cell_type": "code",
   "execution_count": 1,
   "metadata": {},
   "outputs": [
    {
     "data": {
      "text/html": [
       "<img src=\"Photo/3.png\" , width=600, height=300>\n"
      ],
      "text/plain": [
       "<IPython.core.display.HTML object>"
      ]
     },
     "metadata": {},
     "output_type": "display_data"
    }
   ],
   "source": [
    "%%html\n",
    "<img src=\"Photo/3.png\" , width=600, height=300>"
   ]
  },
  {
   "cell_type": "code",
   "execution_count": 2,
   "metadata": {},
   "outputs": [
    {
     "data": {
      "text/html": [
       "<img src=\"Photo/4.png\" , width=600, height=300>\n"
      ],
      "text/plain": [
       "<IPython.core.display.HTML object>"
      ]
     },
     "metadata": {},
     "output_type": "display_data"
    }
   ],
   "source": [
    "%%html\n",
    "<img src=\"Photo/4.png\" , width=600, height=300>"
   ]
  },
  {
   "cell_type": "markdown",
   "metadata": {},
   "source": [
    "# Please follow complete Steps on how to install the Library on following link \n",
    "https://github.com/adafruit/Adafruit_Python_DHT\n"
   ]
  },
  {
   "cell_type": "markdown",
   "metadata": {},
   "source": [
    "Installation Steps: -\n",
    "\n",
    "\n",
    "Python library to read the DHT series of humidity and temperature sensors on a Raspberry Pi or Beaglebone Black.\n",
    "Designed specifically to work with the Adafruit DHT series sensors ----> https://www.adafruit.com/products/385\n",
    "Currently the library is tested with Python 2.6, 2.7, 3.3 and 3.4. It should work with Python greater than 3.4, too\n",
    "Dependencies\n",
    "\n",
    "For all platforms (Raspberry Pi and Beaglebone Black) make sure your system is able to compile and download Python extensions with pip:\n",
    "\n",
    "On Raspbian or Beaglebone Black's Debian/Ubuntu image you can ensure your system is ready by running one or two of the following sets of commands\n",
    "\n",
    "Python 2:\n",
    "sudo apt-get update\n",
    "sudo apt-get install python-pip\n",
    "sudo python -m pip install --upgrade pip setuptools wheel\n",
    "\n",
    "\n",
    "Python 3:\n",
    "sudo apt-get update\n",
    "sudo apt-get install python3-pip\n",
    "sudo python3 -m pip install --upgrade pip setuptools wheel\n",
    "\n",
    "\n",
    "Install with pip\n",
    "Use pip to install from PyPI.\n",
    "\n",
    "\n",
    "Python 2:\n",
    "sudo pip install Adafruit_DHT\n",
    "\n",
    "\n",
    "Python 3:\n",
    "sudo pip3 install Adafruit_DHT\n",
    "\n",
    "\n",
    "Compile and install from the repository\n",
    "First download the library source code from the GitHub releases page, unzipping the archive, and execute:\n",
    "Python 2:\n",
    "cd Adafruit_Python_DHT\n",
    "sudo python setup.py install\n",
    "\n",
    "\n",
    "Python 3:\n",
    "cd Adafruit_Python_DHT\n",
    "sudo python3 setup.py install\n",
    "\n",
    "\n",
    "You may also git clone the repository if you want to test an unreleased version:\n",
    "git clone https://github.com/adafruit/Adafruit_Python_DHT.git\n"
   ]
  },
  {
   "cell_type": "markdown",
   "metadata": {},
   "source": [
    "# Task 1: Read the sensor."
   ]
  },
  {
   "cell_type": "code",
   "execution_count": null,
   "metadata": {},
   "outputs": [],
   "source": [
    "mport Adafruit_DHT\n",
    "\n",
    "# Example using a Raspberry Pi with DHT sensor\n",
    "# connected to GPIO23.\n",
    "\n",
    "pin = 4\n",
    "sensor = Adafruit_DHT.DHT22\n",
    "\n",
    "humidity, temperature = Adafruit_DHT.read_retry(sensor, pin)\n",
    "\n",
    "if humidity is not None and temperature is not None:\n",
    "    print('Temp={0:0.1f}*C  Humidity={1:0.1f}%'.format(temperature, humidity))\n",
    "else:\n",
    "    print('Failed to get reading. Try again!')\n"
   ]
  },
  {
   "cell_type": "markdown",
   "metadata": {},
   "source": [
    "\n",
    "Run the above Code and if you get the Temperature and humidity congregations and let’s move ahead. Let’s try to read the sensor value continuously we just need to add a while loop\n"
   ]
  },
  {
   "cell_type": "markdown",
   "metadata": {},
   "source": [
    "# Task 2: Read the sensor value continuously."
   ]
  },
  {
   "cell_type": "code",
   "execution_count": null,
   "metadata": {},
   "outputs": [],
   "source": [
    "import Adafruit_DHT\n",
    "\n",
    "# Example using a Raspberry Pi with DHT sensor\n",
    "# connected to GPIO23.\n",
    "\n",
    "pin = 4\n",
    "sensor = Adafruit_DHT.DHT22\n",
    "\n",
    "while 1:\n",
    "\n",
    "    humidity, temperature = Adafruit_DHT.read_retry(sensor, pin)\n",
    "\n",
    "    if humidity is not None and temperature is not None:\n",
    "        print('Temp={0:0.1f}*C  Humidity={1:0.1f}%'.format(temperature, humidity))\n",
    "        if humidity >34:\n",
    "            print(\"Alert \")\n",
    "    else:\n",
    "        print('Failed to get reading. Try again!')\n",
    "      \n"
   ]
  },
  {
   "cell_type": "markdown",
   "metadata": {},
   "source": [
    "# Task 3: Try to create a UI where you can display Temperature and Humidity continuously \n",
    "\n"
   ]
  },
  {
   "cell_type": "code",
   "execution_count": null,
   "metadata": {},
   "outputs": [],
   "source": [
    "import tkinter as tk\n",
    "import numpy as np\n",
    "import random\n",
    "import time\n",
    "import datetime\n",
    "import threading\n",
    "import Adafruit_DHT\n",
    "\n",
    "pin = 4\n",
    "sensor = Adafruit_DHT.DHT22\n",
    "\n",
    "def tick():\n",
    "\n",
    "    time2=time.strftime('%H:%M:%S')\n",
    "    clock.config(text=time2)\n",
    "    clock.after(200,tick)\n",
    "\n",
    "\n",
    "def get_data():\n",
    "\n",
    "    threading.Timer(5, get_data).start()\n",
    "\n",
    "    humidity, temperature = Adafruit_DHT.read_retry(sensor, pin)\n",
    "\n",
    "    if humidity is not None and temperature is not None:\n",
    "        print('Temp={0:0.1f}*C  Humidity={1:0.1f}%'.format(temperature, humidity))\n",
    "        l_display.config(text = temperature)\n",
    "    else:\n",
    "        print('Failed to get reading. Try again!')\n",
    "\n",
    "\n",
    "    return temperature\n",
    "\n",
    "\n",
    "\n",
    "mainwindow = tk.Tk()\n",
    "mainwindow.geometry('640x340')\n",
    "mainwindow.title(\"Sensor Data Live Feed \")\n",
    "\n",
    "clock=tk.Label(mainwindow,font=(\"Arial\",30), bg='green',fg=\"white\")\n",
    "clock.grid(row=0, column=0, padx=10, pady=10, sticky=\"nsew\")\n",
    "\n",
    "l_m=tk.Label(mainwindow,text=\"Sensor Data \",font=(\"Arial\",30),fg=\"Black\")\n",
    "l_m.grid(row=0,column=1, padx=10, pady=10, sticky=\"nsew\")\n",
    "\n",
    "l_t=tk.Label(mainwindow, text=\"Temperature C\",font=(\"Arial\",25))\n",
    "l_t.grid(row=1,column=0, padx=10, pady=10, sticky=\"nsew\")\n",
    "\n",
    "l_display=tk.Label(mainwindow,font=(\"Arial\",25),fg=\"red\")\n",
    "l_display.grid(row=1,column=1, padx=10, pady=10, sticky=\"nsew\")\n",
    "\n",
    "\n",
    "tick()\n",
    "get_data()\n",
    "\n",
    "mainwindow.mainloop()\n"
   ]
  },
  {
   "cell_type": "markdown",
   "metadata": {},
   "source": [
    "# Task 4: Try to Log the value on Database "
   ]
  },
  {
   "cell_type": "code",
   "execution_count": null,
   "metadata": {},
   "outputs": [],
   "source": [
    "import Adafruit_DHT\n",
    "import sqlite3\n",
    "import threading\n",
    "import datetime\n",
    "\n",
    "\n",
    "\n",
    "def get_time():\n",
    "    my=datetime.datetime.now()\n",
    "    data_time = '{}:{}:{}'.format(my.hour,my.minute,my.second)\n",
    "    data_date='{}/{}/{}'.format(my.day,my.month,my.year)\n",
    "    return  data_date,data_time\n",
    "\n",
    "\n",
    "def my_database(x, y,my_time, my_date):\n",
    "\n",
    "    \"\"\"\n",
    "\n",
    "    :return: Nothing\n",
    "    \"\"\"\n",
    "\n",
    "    # define the connection\n",
    "    conn = sqlite3.connect(\"xyz.db\")\n",
    "\n",
    "    #define the cursor\n",
    "    cursor = conn.cursor()\n",
    "\n",
    "    # create Tables\n",
    "    cursor.execute(\"\"\"\n",
    "     CREATE TABLE IF NOT EXISTS my_table (id INTEGER PRIMARY KEY AUTOINCREMENT NOT NULL,\n",
    "     temperature  TEXT, \n",
    "     humidity TEXT,\n",
    "     m_date TEXT,\n",
    "     m_time TEXT)\"\"\")\n",
    "\n",
    "    # Add data to database\n",
    "    cursor.execute(\"\"\"\n",
    "    INSERT INTO my_table (temperature,humidity,m_date,m_time) VALUES (?, ?, ?, ?)\"\"\",(x, y,my_time, my_date))\n",
    "\n",
    "    # perform 3C\n",
    "    #COMMIT, CLOSE CLOSE\n",
    "\n",
    "    conn.commit()\n",
    "    cursor.close()\n",
    "    conn.close()\n",
    "\n",
    "\n",
    "def main():\n",
    "    threading.Timer(10, main).start()\n",
    "\n",
    "    pin = 4\n",
    "    sensor = Adafruit_DHT.DHT22\n",
    "\n",
    "    humidity, temperature = Adafruit_DHT.read_retry(sensor, pin)\n",
    "\n",
    "    if humidity is not None and temperature is not None:\n",
    "\n",
    "        print('Temp={0:0.1f}*C  Humidity={1:0.1f}%'.format(temperature, humidity))\n",
    "\n",
    "        data_date,data_time = get_time()\n",
    "        print('Date',data_date)\n",
    "\n",
    "\n",
    "\n",
    "        my_database(temperature, humidity,data_time,data_date)\n",
    "\n",
    "\n",
    "        print(\"data was written on database T{} H{}\".format(temperature,humidity))\n",
    "\n",
    "    else:\n",
    "        print('Failed to get reading. Try again!')\n",
    "\n",
    "\n",
    "if __name__ == '__main__':\n",
    "    while 1:\n",
    "        main()\n"
   ]
  }
 ],
 "metadata": {
  "kernelspec": {
   "display_name": "Python 3",
   "language": "python",
   "name": "python3"
  },
  "language_info": {
   "codemirror_mode": {
    "name": "ipython",
    "version": 3
   },
   "file_extension": ".py",
   "mimetype": "text/x-python",
   "name": "python",
   "nbconvert_exporter": "python",
   "pygments_lexer": "ipython3",
   "version": "3.7.3"
  }
 },
 "nbformat": 4,
 "nbformat_minor": 2
}
