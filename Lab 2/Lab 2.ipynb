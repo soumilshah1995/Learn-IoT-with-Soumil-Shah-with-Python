{
 "cells": [
  {
   "cell_type": "markdown",
   "metadata": {},
   "source": [
    "# Learn Interfacing Distance Sensor"
   ]
  },
  {
   "cell_type": "markdown",
   "metadata": {},
   "source": [
    "OBJECTIVE:"
   ]
  },
  {
   "cell_type": "markdown",
   "metadata": {},
   "source": [
    "The idea of this park sensor is to show green when you have plenty of room to pull your car forward in parking lot, and then turn yellow as you approach the fully forward position, and then red when you should stop. Further, we improve it by adding a buzzer."
   ]
  },
  {
   "cell_type": "markdown",
   "metadata": {},
   "source": [
    "### COMPONENTS:"
   ]
  },
  {
   "cell_type": "markdown",
   "metadata": {},
   "source": [
    "1)\tRPi 3\n",
    "\n",
    "2)\tBreadboard\n",
    "\n",
    "3)\t330 Ω Resistor x 5\n",
    "\n",
    "4)\tLED x 3 (Red, Yellow, Green)\n",
    "\n",
    "5)\tHC-SR04 Ultrasonic Distance Sensor x 1\n",
    "\n",
    "6)\tActive Buzzer x 1\n",
    "\n",
    "7)\tConnecting Wires"
   ]
  },
  {
   "cell_type": "markdown",
   "metadata": {},
   "source": [
    "Ultrasonic Sensor:\n",
    "HC-SR04 is a commonly used module for non-contact distance measurement for distances from 2cm to 400cm. This sensor uses ultrasonic sound to measure distance just like bats and dolphins do. Ultrasonic sound has such a high pitch that humans cannot hear it. This particular sensor sends out an ultrasonic sound that has a frequency of about 40 kHz. The sensor has two main parts: a transducer that creates an ultrasonic sound and another that listens for its echo. The time difference between transmission and reception of ultrasonic signals is calculated. Using the speed of sound and ‘Speed = Distance/Time' equation, the distance between the source and target can be easily calculated.\n"
   ]
  },
  {
   "cell_type": "markdown",
   "metadata": {},
   "source": [
    "\n",
    "Distance Calculation:\n",
    "Distance = Speed * Time/2\n",
    "The \"2\" is in the formula because the sound has to travel back and forth. First the sound travels away from the sensor, and then it bounces off of a surface and returns back. we need only half of this. Therefore time is taken as time/2.\n",
    "Speed of sound at sea level = 340 m/s \n"
   ]
  },
  {
   "cell_type": "markdown",
   "metadata": {},
   "source": [
    "Thus, Distance = 17150 * Time (unit cm)\n",
    "For accurate distance readings, the output can be calibrated using a ruler. In the below program a calibration of 0.5 cm is added.\n"
   ]
  },
  {
   "cell_type": "code",
   "execution_count": 1,
   "metadata": {},
   "outputs": [
    {
     "data": {
      "text/html": [
       "<img src=\"Photo/1.png\" , width=600, height=300>\n"
      ],
      "text/plain": [
       "<IPython.core.display.HTML object>"
      ]
     },
     "metadata": {},
     "output_type": "display_data"
    }
   ],
   "source": [
    "%%html\n",
    "<img src=\"Photo/1.png\" , width=600, height=300>"
   ]
  },
  {
   "cell_type": "markdown",
   "metadata": {},
   "source": [
    "CIRCUIT DESCRIPTION:"
   ]
  },
  {
   "cell_type": "markdown",
   "metadata": {},
   "source": [
    "1.\tBCM PIN CONFIGURATION IS USED.\n",
    "\n",
    "2.\tVCC of the ultrasonic sensor is connected to 5v pin of RPi\n",
    "\n",
    "3.\tTrigger to pin 23\n",
    "\n",
    "4.\tEcho is connected to 330 ohm resistor and to pin 24.\n",
    "\n",
    "5.\t330 ohm resistors are for the leds and they are connecting to the positive leg of the leds and then GPIO.\n"
   ]
  },
  {
   "cell_type": "markdown",
   "metadata": {},
   "source": [
    "### CREATING THE PROGRA"
   ]
  },
  {
   "cell_type": "markdown",
   "metadata": {},
   "source": [
    "1.\tGo to TERMINAL\n",
    "\n",
    "2.\tNavigate to workspace folder (created in lab 1) by typing the command:\n",
    "\t$ cd workspace\n",
    "\n",
    "3.\tOpen this folder in your file system\n",
    "\n",
    "4.\tRight click the mouse and choose new file and name it as lab3.py\n",
    "\n",
    "5.\tRight click on the file and open with IDLE3. Make it default program.\n",
    "\n",
    "6.\tType the below code and save the file.\n",
    "\n"
   ]
  },
  {
   "cell_type": "code",
   "execution_count": null,
   "metadata": {},
   "outputs": [],
   "source": [
    "import RPi.GPIO as GPIO\n",
    "import time\n",
    "\n",
    "trigger_pin = 23\n",
    "echo_pin = 24\n",
    "red_pin = 22\n",
    "yellow_pin = 27\n",
    "green_pin = 17\n",
    "\n",
    "def setup():             #method to setup pins and make led's low initially\n",
    "    GPIO.setmode(GPIO.BCM)\n",
    "    GPIO.setup(echo_pin, GPIO.IN)\n",
    "    GPIO.setup(trigger_pin, GPIO.OUT)\n",
    "    GPIO.setup(red_pin, GPIO.OUT)\n",
    "    GPIO.setup(yellow_pin, GPIO.OUT)\n",
    "    GPIO.setup(green_pin, GPIO.OUT)\n",
    "    GPIO.output(green_pin, GPIO.LOW)\n",
    "    GPIO.output(yellow_pin, GPIO.LOW)\n",
    "    GPIO.output(red_pin, GPIO.LOW)\n",
    "\n",
    "    try:\n",
    "        print('calling loop')\n",
    "        calculate_distance()              #calling distance calculation method\n",
    "    except KeyboardInterrupt:               #cleaning pins on program exit\n",
    "        print('cleaning up gpio pins')\n",
    "        GPIO.cleanup()\n",
    "\n",
    "def red():\n",
    "    GPIO.output(red_pin, GPIO.HIGH)\n",
    "    GPIO.output(green_pin, GPIO.LOW)\n",
    "    GPIO.output(yellow_pin, GPIO.LOW)\n",
    "\n",
    "def yellow():\n",
    "    GPIO.output(yellow_pin, GPIO.HIGH)\n",
    "    GPIO.output(red_pin, GPIO.LOW)\n",
    "    GPIO.output(green_pin, GPIO.LOW)\n",
    "\n",
    "def green():\n",
    "    GPIO.output(green_pin, GPIO.HIGH)\n",
    "    GPIO.output(yellow_pin, GPIO.LOW)\n",
    "    GPIO.output(red_pin, GPIO.LOW)\n",
    "\n",
    "def calculate_distance():\n",
    "    while True:\n",
    "\n",
    "        GPIO.output(trigger_pin, False)                 #set trigger_pin as LOW\n",
    "        print (\"Giving delay between distance measuring cycle\")\n",
    "        time.sleep(0.5)\n",
    "\n",
    "        GPIO.output(trigger_pin, True)                 #set trigger_pin as HIGH\n",
    "        time.sleep(0.00001)\n",
    "        GPIO.output(trigger_pin, False)\n",
    "\n",
    "        while GPIO.input(echo_pin)==0:             #check if echo_pin is LOW\n",
    "            pulse_start = time.time()     #saves the last known time of LOW pulse\n",
    "\n",
    "        while GPIO.input(echo_pin)==1:               #Check if echo_pin is HIGH\n",
    "            pulse_end = time.time()      #saves the last known time of HIGH pulse \n",
    "\n",
    "        pulse_duration = pulse_end - pulse_start    #get pulse duration to a variable\n",
    "        distance = pulse_duration * 17150           #multiply pulse duration by 17150 to get distance\n",
    "        distance = round(distance, 2)               #round to two decimal points\n",
    "\n",
    "        print (\"Distance:\",distance - 0.5,\"cm\")     #print distance with 0.5 cm calibration\n",
    "\n",
    "\n",
    "\n",
    "        if distance <= 5:            #call red method if distance is less than or equal to 5cm\n",
    "            red()\n",
    "\n",
    "        elif 6 <= distance < 20:     #call yellow method if distance is greater than 6cm and less than 20cm\n",
    "            yellow()\n",
    "\n",
    "        elif 21 <= distance < 150:      #call green method if distance is greater than 21cm and less than 150cm\n",
    "            green()\n",
    "\n",
    "        else:\n",
    "            print(\"Out of Range\")\n",
    "\n",
    "setup()\n"
   ]
  },
  {
   "cell_type": "markdown",
   "metadata": {},
   "source": [
    "## EXPLANATION:"
   ]
  },
  {
   "cell_type": "markdown",
   "metadata": {},
   "source": [
    "With reference to the above code:\n",
    "\n",
    "If the distance is greater than or equal to 5 cm, we show a red light. If it's between 6 and 20 cm, we'll turn yellow, and then we'll turn green for greater than or equal to 21 cm and less than 150cm.\n"
   ]
  },
  {
   "cell_type": "code",
   "execution_count": null,
   "metadata": {},
   "outputs": [],
   "source": []
  }
 ],
 "metadata": {
  "kernelspec": {
   "display_name": "Python 3",
   "language": "python",
   "name": "python3"
  },
  "language_info": {
   "codemirror_mode": {
    "name": "ipython",
    "version": 3
   },
   "file_extension": ".py",
   "mimetype": "text/x-python",
   "name": "python",
   "nbconvert_exporter": "python",
   "pygments_lexer": "ipython3",
   "version": "3.7.3"
  }
 },
 "nbformat": 4,
 "nbformat_minor": 2
}
