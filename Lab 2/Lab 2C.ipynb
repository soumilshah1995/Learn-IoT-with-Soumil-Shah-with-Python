{
 "cells": [
  {
   "cell_type": "markdown",
   "metadata": {},
   "source": [
    "# Objective Learn to Interface Camera Module "
   ]
  },
  {
   "cell_type": "code",
   "execution_count": 1,
   "metadata": {},
   "outputs": [
    {
     "data": {
      "text/html": [
       "<img src=\"Photo/5.png\" , width=600, height=300>\n"
      ],
      "text/plain": [
       "<IPython.core.display.HTML object>"
      ]
     },
     "metadata": {},
     "output_type": "display_data"
    }
   ],
   "source": [
    "%%html\n",
    "<img src=\"Photo/5.png\" , width=600, height=300>"
   ]
  },
  {
   "cell_type": "code",
   "execution_count": null,
   "metadata": {},
   "outputs": [],
   "source": [
    "import time\n",
    "from picamera import PiCamera\n",
    "\n",
    "camera=PiCamera()\n",
    "#camera.start_preview()\n",
    "time.sleep(2)\n",
    "camera.capture(\"yo.jpg\")\n"
   ]
  },
  {
   "cell_type": "markdown",
   "metadata": {},
   "source": [
    "# Modify the Code to whenever you press button it takes Photo"
   ]
  },
  {
   "cell_type": "code",
   "execution_count": 2,
   "metadata": {},
   "outputs": [
    {
     "data": {
      "text/html": [
       "<img src=\"Photo/6.png\" , width=600, height=300>\n"
      ],
      "text/plain": [
       "<IPython.core.display.HTML object>"
      ]
     },
     "metadata": {},
     "output_type": "display_data"
    }
   ],
   "source": [
    "%%html\n",
    "<img src=\"Photo/6.png\" , width=600, height=300>"
   ]
  },
  {
   "cell_type": "code",
   "execution_count": null,
   "metadata": {},
   "outputs": [],
   "source": [
    "import time\n",
    "from picamera import PiCamera\n",
    "\n",
    "from time import sleep # Library will let us put in delays\n",
    "import RPi.GPIO as GPIO # Import the RPi Library for GPIO pin control\n",
    "\n",
    "button1_pin=10 # Button 1 is connected to physical pin 12\n",
    "GPIO.setmode(GPIO.BOARD) # Use Physical Pin Numbering Scheme\n",
    "\n",
    "GPIO.setup(button1_pin,GPIO.IN,pull_up_down=GPIO.PUD_UP)\n",
    "# Make button1_pin an input, Activate Pull UP Resistor\n",
    "\n",
    "while(1): # Create an infinite Loop\n",
    "    input1=GPIO.input(button1_pin)\n",
    "    if input1==0:\n",
    "        sleep(.1)\n",
    "        print ('Button 1 Pressed')\n",
    "        # Look for button 1 press # Delay\n",
    "        # Notify User\n",
    "        camera=PiCamera()\n",
    "        #camera.start_preview()\n",
    "        time.sleep(2)\n",
    "        camera.capture(\"soumil.jpg\")\n"
   ]
  }
 ],
 "metadata": {
  "kernelspec": {
   "display_name": "Python 3",
   "language": "python",
   "name": "python3"
  },
  "language_info": {
   "codemirror_mode": {
    "name": "ipython",
    "version": 3
   },
   "file_extension": ".py",
   "mimetype": "text/x-python",
   "name": "python",
   "nbconvert_exporter": "python",
   "pygments_lexer": "ipython3",
   "version": "3.7.3"
  }
 },
 "nbformat": 4,
 "nbformat_minor": 2
}
