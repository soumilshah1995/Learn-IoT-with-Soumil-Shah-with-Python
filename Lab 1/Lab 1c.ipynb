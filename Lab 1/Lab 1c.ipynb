{
 "cells": [
  {
   "cell_type": "markdown",
   "metadata": {},
   "source": [
    "# Flowing LED Lights "
   ]
  },
  {
   "cell_type": "markdown",
   "metadata": {},
   "source": [
    "CIRCUIT DIAGRAM:"
   ]
  },
  {
   "cell_type": "markdown",
   "metadata": {},
   "source": [
    "### Note the Image shows how LED is connected we will only use 3 or 4 LED just for understanding Purpose\n"
   ]
  },
  {
   "cell_type": "code",
   "execution_count": 1,
   "metadata": {
    "scrolled": true
   },
   "outputs": [
    {
     "data": {
      "text/html": [
       "<img src=\"https://www.w3schools.com/nodejs/img_raspberrypi3_led_flowing.png\" , width=600, height=300>\n"
      ],
      "text/plain": [
       "<IPython.core.display.HTML object>"
      ]
     },
     "metadata": {},
     "output_type": "display_data"
    }
   ],
   "source": [
    "%%html\n",
    "<img src=\"https://www.w3schools.com/nodejs/img_raspberrypi3_led_flowing.png\" , width=600, height=300>"
   ]
  },
  {
   "cell_type": "markdown",
   "metadata": {},
   "source": [
    "Code "
   ]
  },
  {
   "cell_type": "code",
   "execution_count": null,
   "metadata": {},
   "outputs": [],
   "source": [
    "import RPi.GPIO as GPIO\n",
    "import time\n",
    "\n",
    "pins = [11, 12, 13, 15]\n",
    "GPIO.setmode(GPIO.BOARD)        # to use Raspberry Pi board pin numbers\n",
    "\n",
    "for pin in pins:\n",
    "    GPIO.setup(pin, GPIO.OUT)   # Set all pins mode as output\n",
    "def setup():\n",
    "    try:\n",
    "        loop()\n",
    "    except KeyboardInterrupt:  # When 'Ctrl+C' is pressed, the child program destroy() will be  executed.\n",
    "        destroy()\n",
    "\n",
    "def loop():\n",
    "    while True:\n",
    "        for pin in pins:\n",
    "            GPIO.output(pin, GPIO.LOW)\n",
    "            time.sleep(0.05)\n",
    "            GPIO.output(pin, GPIO.HIGH)\n",
    "        for pin in reversed(pins):\n",
    "            GPIO.output(pin, GPIO.LOW)\n",
    "            time.sleep(0.05)\n",
    "            GPIO.output(pin, GPIO.HIGH)\n",
    "\n",
    "def destroy():\n",
    "    for pin in pins:\n",
    "        GPIO.output(pin, GPIO.HIGH)\n",
    "    GPIO.cleanup()                     # Release resource\n",
    "\n",
    "\n",
    "setup()                              #call the method setup()\n"
   ]
  },
  {
   "cell_type": "code",
   "execution_count": null,
   "metadata": {},
   "outputs": [],
   "source": []
  },
  {
   "cell_type": "code",
   "execution_count": null,
   "metadata": {},
   "outputs": [],
   "source": []
  }
 ],
 "metadata": {
  "kernelspec": {
   "display_name": "Python 3",
   "language": "python",
   "name": "python3"
  },
  "language_info": {
   "codemirror_mode": {
    "name": "ipython",
    "version": 3
   },
   "file_extension": ".py",
   "mimetype": "text/x-python",
   "name": "python",
   "nbconvert_exporter": "python",
   "pygments_lexer": "ipython3",
   "version": "3.7.3"
  }
 },
 "nbformat": 4,
 "nbformat_minor": 2
}
