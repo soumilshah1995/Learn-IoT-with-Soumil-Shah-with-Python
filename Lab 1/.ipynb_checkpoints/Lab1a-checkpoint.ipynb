{
 "cells": [
  {
   "cell_type": "markdown",
   "metadata": {},
   "source": [
    "# CONFIGURING GPIO PINS AS OUTPUTS - BLINKING LED"
   ]
  },
  {
   "cell_type": "markdown",
   "metadata": {},
   "source": [
    "### OBJECTIVE:"
   ]
  },
  {
   "cell_type": "markdown",
   "metadata": {},
   "source": [
    "To learn basics about gpio pins, configuring them as outputs, learn to write basic python code and PWM for dimmable lights."
   ]
  },
  {
   "cell_type": "markdown",
   "metadata": {},
   "source": [
    "### COMPONENTS:"
   ]
  },
  {
   "cell_type": "markdown",
   "metadata": {},
   "source": [
    "1)\tRPi 3\n",
    "\n",
    "2)\tBreadboard\n",
    "\n",
    "3)\t100 Ω Resistor x 4\n",
    "\n",
    "4)\tLED x 4\n",
    "\n",
    "5)\tConnecting Wires"
   ]
  },
  {
   "cell_type": "markdown",
   "metadata": {},
   "source": [
    "### Breadboard:"
   ]
  },
  {
   "cell_type": "markdown",
   "metadata": {},
   "source": [
    "A breadboard is used for making an experimental model of an electric circuit. We are going to be using a half size solderless breadboard (plugboard). The reason for this is that you can simply push hardware in and out of the board without the need of soldering. This will ensure that if any mistakes are made you have not permanently damaged the hardware. "
   ]
  },
  {
   "cell_type": "code",
   "execution_count": 1,
   "metadata": {},
   "outputs": [
    {
     "data": {
      "text/html": [
       "<img src=\"https://cdn.instructables.com/F1G/DVCP/HPZLM93S/F1GDVCPHPZLM93S.LARGE.gif\" , width=600, height=300>\n"
      ],
      "text/plain": [
       "<IPython.core.display.HTML object>"
      ]
     },
     "metadata": {},
     "output_type": "display_data"
    }
   ],
   "source": [
    "%%html\n",
    "<img src=\"https://cdn.instructables.com/F1G/DVCP/HPZLM93S/F1GDVCPHPZLM93S.LARGE.gif\" , width=600, height=300>"
   ]
  },
  {
   "cell_type": "code",
   "execution_count": 2,
   "metadata": {},
   "outputs": [
    {
     "data": {
      "text/html": [
       "<img src=\"https://cdn.tutsplus.com/mac/uploads/2013/10/verticalpower.png\" , width=600, height=300>\n"
      ],
      "text/plain": [
       "<IPython.core.display.HTML object>"
      ]
     },
     "metadata": {},
     "output_type": "display_data"
    }
   ],
   "source": [
    "%%html\n",
    "<img src=\"https://cdn.tutsplus.com/mac/uploads/2013/10/verticalpower.png\" , width=600, height=300>"
   ]
  },
  {
   "cell_type": "markdown",
   "metadata": {},
   "source": [
    "\n",
    "Note: The current in the centre pins flows vertically, whereas the current in the pins at the top and bottom flows horizontally.\n"
   ]
  },
  {
   "cell_type": "code",
   "execution_count": null,
   "metadata": {},
   "outputs": [],
   "source": [
    "%%html\n",
    "<img src=\"https://components101.com/sites/default/files/component_pin/LED-Pinout.png\" , width=200, height=100>"
   ]
  },
  {
   "cell_type": "markdown",
   "metadata": {},
   "source": [
    "# CIRCUIT DIAGRAM:"
   ]
  },
  {
   "cell_type": "code",
   "execution_count": 3,
   "metadata": {},
   "outputs": [
    {
     "data": {
      "text/html": [
       "<img src=\"https://i.stack.imgur.com/EcYtz.png\" , width=400, height=200>\n"
      ],
      "text/plain": [
       "<IPython.core.display.HTML object>"
      ]
     },
     "metadata": {},
     "output_type": "display_data"
    }
   ],
   "source": [
    "%%html\n",
    "<img src=\"https://i.stack.imgur.com/EcYtz.png\" , width=400, height=200>"
   ]
  },
  {
   "cell_type": "markdown",
   "metadata": {},
   "source": [
    "# CIRCUIT DESCRIPTION:\n"
   ]
  },
  {
   "cell_type": "markdown",
   "metadata": {},
   "source": [
    "Connect the pin# 11 of RPi with 100 Ω resistor, and connect the other side of resistor with the positive (+) of LED. Connect the negative (-) of LED to the ground (GND) of RPi Pin# 6. Resistor is used to limit the current."
   ]
  },
  {
   "cell_type": "markdown",
   "metadata": {},
   "source": [
    "# CREATING THE PROGRAM:\n",
    "\n"
   ]
  },
  {
   "cell_type": "markdown",
   "metadata": {},
   "source": [
    "1.\tGo to TERMINAL\n",
    "\n",
    "2.\tCreate a folder for all our programs. Type the command:\n",
    " \n",
    "\t$ mkdir workspace\n",
    "\t\n",
    "3.\tOpen this folder in your file system\n",
    "\n",
    "4.\tRight click the mouse and choose new file and name it as lab1.py\n",
    "\n",
    "5.\tRight click on the file and open with IDLE3. Make it default program.\n",
    "\n",
    "6.\tType the below code and save the file.\n",
    "\n",
    "7.\tGo to terminal and navigate to workspace folder by typing the command:\n",
    "\n",
    "\n",
    "\t$ cd workspace\n",
    "\n",
    "8.\tWrite a Python Program To Blink Led\n"
   ]
  },
  {
   "cell_type": "markdown",
   "metadata": {},
   "source": [
    "## Remember we are using BOARD pinnumber in this example not GPIO "
   ]
  },
  {
   "cell_type": "code",
   "execution_count": null,
   "metadata": {
    "scrolled": true
   },
   "outputs": [],
   "source": [
    "# basic one time blink\n",
    "\n",
    "import RPi.GPIO as GPIO\n",
    "import time\n",
    "\n",
    "GPIO.setmode(GPIO.BOARD) # to use Raspberry Pi board pin numbers\n",
    "GPIO.setup(12, GPIO.OUT) # set up GPIO output channel\n",
    "\n",
    "GPIO.output(12, GPIO.LOW) # set RPi board pin 11 low. Turn off LED.\n",
    "time.sleep(1)\n",
    "GPIO.output(12, GPIO.HIGH) # set RPi board pin 11 high. Turn on LED.\n"
   ]
  },
  {
   "cell_type": "code",
   "execution_count": null,
   "metadata": {},
   "outputs": [],
   "source": [
    "Program Variations [Modify the above code to]: \n",
    "1.\tUse BCM pin numbers\n",
    "2.\tSwitch On and OFF using infinite Loop\n",
    "3.\tPin cleanup after exiting loop\n"
   ]
  },
  {
   "cell_type": "markdown",
   "metadata": {},
   "source": [
    "# EXPLANATION: "
   ]
  },
  {
   "cell_type": "markdown",
   "metadata": {},
   "source": [
    "With reference to the above code:\n",
    "\n",
    "●The first line tells the Python interpreter (the thing that runs the Python code) that it will be using a ‘library’ that will tell it how to work with the Raspberry Pi’s GPIO pins.  A ‘library’ gives a programming language extra commands that can be used to do something different that it previously did not know how to do.  This is like adding a new channel to your TV so you can watch something different.\n",
    "\n",
    "●Imports the Time library so that we can pause the script later on.\n",
    "\n",
    "●Each pin on the Pi has several different names, so you need to tell the program which naming convention is to be used. In the above case we are using physical pin numbering.\n",
    "\n",
    "●Pin 11 is going to be used for outputting information, which means you are going to be able to turn the pin ‘on’ and ‘off’.\n",
    "\n",
    "●GPIO.output(11, GPIO.HIGH) -- This turns the GPIO pin ‘on’. What this actually means is that the pin is made to provide power of 3.3volts.  This is enough to turn the LED in our circuit on.\n",
    "\n",
    "●time.sleep(2) -- Pauses the Python program for 2 second\n"
   ]
  }
 ],
 "metadata": {
  "kernelspec": {
   "display_name": "Python 3",
   "language": "python",
   "name": "python3"
  },
  "language_info": {
   "codemirror_mode": {
    "name": "ipython",
    "version": 3
   },
   "file_extension": ".py",
   "mimetype": "text/x-python",
   "name": "python",
   "nbconvert_exporter": "python",
   "pygments_lexer": "ipython3",
   "version": "3.7.3"
  }
 },
 "nbformat": 4,
 "nbformat_minor": 2
}
