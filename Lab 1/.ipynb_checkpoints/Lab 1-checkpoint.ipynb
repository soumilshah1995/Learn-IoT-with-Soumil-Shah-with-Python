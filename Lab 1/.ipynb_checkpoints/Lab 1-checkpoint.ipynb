{
 "cells": [
  {
   "cell_type": "markdown",
   "metadata": {},
   "source": [
    "# THE INTERNET OF THINGS"
   ]
  },
  {
   "cell_type": "markdown",
   "metadata": {},
   "source": [
    "INTRODUCTION"
   ]
  },
  {
   "cell_type": "markdown",
   "metadata": {},
   "source": [
    "This manual is based on Raspberry Pi and will start from very basic, assuming that you just came to the world of processors and will gradually cover complex labs that are required to understand the application of Internet of Things and Controls. We will learn to use it as a development board. It is impossible to cover everything that the Raspberry Pi is capable of, because the boundaries of the RPi is defined by your imagination. Hence, this manual serves as a guide to get you familiar with the RPi’s functionality by executing several labs that will give you the skills you need to develop your own projects."
   ]
  },
  {
   "cell_type": "markdown",
   "metadata": {},
   "source": [
    "## Video Tutorial can be found on my Youtube Channel "
   ]
  },
  {
   "cell_type": "code",
   "execution_count": 8,
   "metadata": {},
   "outputs": [
    {
     "data": {
      "image/jpeg": "[encoded data removed]",
      "text/html": [
       "\n",
       "        <iframe\n",
       "            width=\"400\"\n",
       "            height=\"300\"\n",
       "            src=\"https://www.youtube.com/embed/qL2ClHYEuog\"\n",
       "            frameborder=\"0\"\n",
       "            allowfullscreen\n",
       "        ></iframe>\n",
       "        "
      ],
      "text/plain": [
       "<IPython.lib.display.YouTubeVideo at 0x1090f1cf8>"
      ]
     },
     "execution_count": 8,
     "metadata": {},
     "output_type": "execute_result"
    }
   ],
   "source": [
    "from IPython.display import YouTubeVideo\n",
    "YouTubeVideo('qL2ClHYEuog')"
   ]
  },
  {
   "cell_type": "markdown",
   "metadata": {},
   "source": [
    "What is a Raspberry Pi?"
   ]
  },
  {
   "cell_type": "markdown",
   "metadata": {},
   "source": [
    "\n",
    " The Raspberry Pi is a credit-card sized single-board computer (SBC) and development board, which is heavily used for the prototyping of IoT based products. However one key aspect that makes the Raspberry Pi so brilliant for schools is its ability to execute “Python” coded programs. This allows us along with the General Purpose Input Output (GPIO) pins to create programs that can control anything from a single LED to opening your garage door."
   ]
  },
  {
   "cell_type": "code",
   "execution_count": 1,
   "metadata": {
    "scrolled": true
   },
   "outputs": [
    {
     "data": {
      "text/html": [
       "<img src=\"http://linuxgizmos.com/files/pi_modelb+_infographic.jpg\" , width=600, height=300>\n"
      ],
      "text/plain": [
       "<IPython.core.display.HTML object>"
      ]
     },
     "metadata": {},
     "output_type": "display_data"
    }
   ],
   "source": [
    "%%html\n",
    "<img src=\"http://linuxgizmos.com/files/pi_modelb+_infographic.jpg\" , width=600, height=300>"
   ]
  },
  {
   "cell_type": "markdown",
   "metadata": {},
   "source": [
    "## The Raspberry Pi 3 is the third-generation Raspberry Pi. The following are its on board components:"
   ]
  },
  {
   "cell_type": "markdown",
   "metadata": {},
   "source": [
    "\n",
    "●ARM CPU/GPU -- This is a Broadcom BCM 3287 System on a Chip (SoC) that's made up of an ARM central processing unit (CPU) and a Videocore 4 graphics processing unit (GPU). The CPU handles all the computations that make a computer work (taking input, doing calculations and producing output), and the GPU handles graphics output.\n",
    "\n",
    "●GPIO -- These are exposed general-purpose input/output connection points that will allow the real hardware hobbyists the opportunity to tinker.\n",
    "\n",
    "●RCA -- An RCA jack allows connection of analog TVs and other similar output devices.\n",
    "\n",
    "●Audio out -- This is a standard 3.55-millimeter jack for connection of audio output devices such as headphones or speakers. There is no audio in.\n",
    "\n",
    "●Camera Connector -- 15-pin MIPI Camera Serial Interface (CSI-2)\n",
    "\n",
    "●Display Connector --Display Serial Interface (DSI) 15 way flat flex cable connector with two data lanes and a clock lane.\n",
    "\n",
    "●USB -- This is a common connection port for peripheral devices of all types (including your mouse and keyboard). There are 4 USB2.0 Connectors.\n",
    "\n",
    "●HDMI -- This connector allows you to hook up a high-definition television or other compatible device using an HDMI cable.\n",
    "\n",
    "●Power -- This is a 5v Micro USB power connector into which you can plug your compatible power supply.\n",
    "\n",
    "●SD card slot -- This is a full-sized SD card slot. An SD card with an operating system (OS) installed is required for booting the device. They are available for purchase from the manufacturers, but you can also download an OS and save it to the card yourself if you have a Linux machine and the wherewithal.\n",
    "\n",
    "●Ethernet -- This connector allows for wired network access\n",
    "\n"
   ]
  },
  {
   "cell_type": "markdown",
   "metadata": {},
   "source": [
    "# What are the GPIO Pins?"
   ]
  },
  {
   "cell_type": "markdown",
   "metadata": {},
   "source": [
    "Visible in the two below picture, the GPIO pins are located on the Raspberry Pi in the top right corner. These pins are a physical interface between the Pi and the outside world. At the simplest level, you can think of them as switches that you can turn on or off (input) or that the Pi can turn on or off (output). Of the 40 pins, 26 are GPIO pins and the others are power or ground pins, plus two ID EEPROM pins."
   ]
  },
  {
   "cell_type": "code",
   "execution_count": 3,
   "metadata": {},
   "outputs": [
    {
     "data": {
      "text/html": [
       "<img src=\"https://cdn.sparkfun.com/assets/learn_tutorials/4/2/4/header_pinout.jpg\" , width=600, height=300>\n"
      ],
      "text/plain": [
       "<IPython.core.display.HTML object>"
      ]
     },
     "metadata": {},
     "output_type": "display_data"
    }
   ],
   "source": [
    "%%html\n",
    "<img src=\"https://cdn.sparkfun.com/assets/learn_tutorials/4/2/4/header_pinout.jpg\" , width=600, height=300>"
   ]
  },
  {
   "cell_type": "markdown",
   "metadata": {},
   "source": [
    "# What are they for? What can I do with them?"
   ]
  },
  {
   "cell_type": "markdown",
   "metadata": {},
   "source": [
    "You can program the pins to interact in amazing ways with the real world. Inputs don't have to come from a physical switch; it could be input from a sensor or a signal from another computer or device, for example. The output can also do anything, from turning on an LED to sending a signal or data to another device. If the Raspberry Pi is on a network, you can control devices that are attached to it from anywhere and those devices can send data back. Connectivity and control of physical devices over the internet is a powerful and exciting thing, and the Raspberry Pi is ideal for this."
   ]
  },
  {
   "cell_type": "markdown",
   "metadata": {},
   "source": [
    "# Pin Numbering System"
   ]
  },
  {
   "cell_type": "markdown",
   "metadata": {},
   "source": [
    "Raspberry Pi pins are numbered in two different ways - Physical numbering and Broadcom numbering (BCM). In the first case, the pins are numbered sequentially from one to 40. In the Figure 2, this is shown as Pin#. And the image represents what is seen when the Pi is held with the USB ports facing downwards. That is, Pin 2 is the pin in the corner. The Broadcom numbering system is the default option for the SoC (System-on-Chip). This is also known as GPIO numbering and is shown as Name in the Figure 2. \n",
    "\n",
    "As you have probably guessed already, all the pins are not programmable. There are eight ground pins and two +5V pins and three +3.3V pins, which are not programmable. There are other dedicated pins too. Most of the pins have alternative functions, as shown in the figure. A majority of the pins are directly connected to the SoC; so while connecting circuits or components, one should be careful to avoid wrong wiring and short circuits. It is always good to have a descriptive pinout diagram printed out for quick reference. \n"
   ]
  },
  {
   "cell_type": "markdown",
   "metadata": {},
   "source": [
    "# Programming the Pins"
   ]
  },
  {
   "cell_type": "markdown",
   "metadata": {},
   "source": [
    "The Python package used for Raspberry Pi GPIO programming is RPi.GPIO. It is already installed in Raspbian, the default operating system for Pi.\n",
    "If you are using any other operating system, the package can be installed by using the following command:\n"
   ]
  },
  {
   "cell_type": "code",
   "execution_count": null,
   "metadata": {},
   "outputs": [],
   "source": [
    "sudo pip install RPi.GPIO"
   ]
  },
  {
   "cell_type": "markdown",
   "metadata": {},
   "source": [
    "# The GPIO Programming Workflow"
   ]
  },
  {
   "cell_type": "markdown",
   "metadata": {},
   "source": [
    "Let us discuss the steps involved in writing a GPIO Python script, in general:\n",
    "\n",
    "1.\tImport the RPi.GPIO package.\n",
    "2.\tSet the numbering style to be used. Use the method GPIO.setmode() for this. It takes either GPIO.BOARD or GPIO.BCM as the parameter. GPIO.BOARD stands for physical numbering and GPIO.BCM stands for Broadcom numbering.\n",
    "3.\tSet up the necessary input and output pins.\n",
    "4.\tRead inputs and give outputs.\n",
    "5.\tClean up GPIO and exit. You must clean up the pin set-ups before your program exits otherwise those pin settings will persist, and that might cause trouble when you use the same pins in another program. To clean up the entire set of pins, invoke GPIO.cleanup(). \n"
   ]
  },
  {
   "cell_type": "markdown",
   "metadata": {},
   "source": [
    "# Set Up your Raspberry Pi"
   ]
  },
  {
   "cell_type": "markdown",
   "metadata": {},
   "source": [
    "To set up RPi, you will need:\n",
    "\n",
    "●\tSD card of Minimum size 4Gb; Class 4 and above\n",
    "\n",
    "●\tHDMI for HD TVs and monitors with HDMI input\n",
    "\n",
    "●\tRCA video lead (Optional) A standard RCA composite video lead to connect to your analogue display if you are not using the HDMI output.\n",
    "\n",
    "●\tKeyboard and Mouse\n",
    "\n",
    "●\tPower adapter\n",
    "\n",
    "●\tA USB memory card reader\n"
   ]
  },
  {
   "cell_type": "markdown",
   "metadata": {},
   "source": [
    "# Preparing your SD card:"
   ]
  },
  {
   "cell_type": "markdown",
   "metadata": {},
   "source": [
    "The SD card contains the Raspberry Pi’s operating system (the OS is the software that makes it work, like Windows on a PC or OSX on a Mac). This is very different from most computers and it is what many people find the most daunting part of setting up their Raspberry Pi. "
   ]
  },
  {
   "cell_type": "markdown",
   "metadata": {},
   "source": [
    "The following instructions are for Windows users. Linux and Mac users can find instructions at www.raspberrypi.org/downloads"
   ]
  },
  {
   "cell_type": "markdown",
   "metadata": {},
   "source": [
    "# Steps to Follow"
   ]
  },
  {
   "cell_type": "markdown",
   "metadata": {},
   "source": [
    "# Step 1"
   ]
  },
  {
   "cell_type": "markdown",
   "metadata": {},
   "source": [
    "1.\t Download the Raspberry Pi operating system\n",
    "The recommended OS is called Raspbian. Download it here: \n",
    "https://www.raspberrypi.org/downloads/\n"
   ]
  },
  {
   "cell_type": "markdown",
   "metadata": {},
   "source": [
    "## Step 2"
   ]
  },
  {
   "cell_type": "markdown",
   "metadata": {},
   "source": [
    "2.\tUnzip the file that you just downloaded\n",
    "a.\tRight click on the file and choose “Extract all”. \n",
    "b.\tFollow the instructions—you will end up with a file ending in .img"
   ]
  },
  {
   "cell_type": "markdown",
   "metadata": {},
   "source": [
    "# Step 3"
   ]
  },
  {
   "cell_type": "markdown",
   "metadata": {},
   "source": [
    "3.Download the Win32DiskImager software\n",
    "\n",
    "a.\tDownload win32diskimager-binary.zip\n",
    "http://sourceforge.net/projects/win32diskimager\n",
    "\n",
    "b.\tUnzip it in the same way you did the Raspbian .zip file\n",
    "\n",
    "c.\tYou now have a new folder called win32diskimager-binary\n"
   ]
  },
  {
   "cell_type": "markdown",
   "metadata": {},
   "source": [
    "# Step 4"
   ]
  },
  {
   "cell_type": "markdown",
   "metadata": {},
   "source": [
    "You are now ready to write the Raspbian image to your SD card"
   ]
  },
  {
   "cell_type": "markdown",
   "metadata": {},
   "source": [
    "Writing Raspbian to the SD card\n",
    "\n",
    "a.Plug your SD card in the card reader and then into your PC\n",
    "\n",
    "b.Open Win32DiskImager. You should see something like this\n"
   ]
  },
  {
   "cell_type": "code",
   "execution_count": 4,
   "metadata": {},
   "outputs": [
    {
     "data": {
      "text/html": [
       "<img src=\"https://img.utdstc.com/screen/1/win32-disk-imager-001.jpg:xxs\" , width=600, height=300>\n"
      ],
      "text/plain": [
       "<IPython.core.display.HTML object>"
      ]
     },
     "metadata": {},
     "output_type": "display_data"
    }
   ],
   "source": [
    "%%html\n",
    "<img src=\"https://img.utdstc.com/screen/1/win32-disk-imager-001.jpg:xxs\" , width=600, height=300>"
   ]
  },
  {
   "cell_type": "markdown",
   "metadata": {},
   "source": [
    "c.If the SD card (Device) you are using isn’t found automatically then click on the drop down box (highlighted in blue; Figure 3) and select it. \n",
    "\n",
    "d.  In the Image File box, choose the Raspbian .img file that you downloaded\n"
   ]
  },
  {
   "cell_type": "code",
   "execution_count": 5,
   "metadata": {},
   "outputs": [
    {
     "data": {
      "text/html": [
       "<img src=\"https://www.pendrivelinux.com/wp-content/uploads/moblin-image-writer.png\" , width=600, height=300>\n"
      ],
      "text/plain": [
       "<IPython.core.display.HTML object>"
      ]
     },
     "metadata": {},
     "output_type": "display_data"
    }
   ],
   "source": [
    "%%html\n",
    "<img src=\"https://www.pendrivelinux.com/wp-content/uploads/moblin-image-writer.png\" , width=600, height=300>"
   ]
  },
  {
   "cell_type": "markdown",
   "metadata": {},
   "source": [
    "e. Click Write\n",
    "\n",
    "f. After a few minutes you will have an SD card that you can use in the RPi.\n"
   ]
  },
  {
   "cell_type": "markdown",
   "metadata": {},
   "source": [
    "# Step 5"
   ]
  },
  {
   "cell_type": "markdown",
   "metadata": {},
   "source": [
    "Booting your Raspberry Pi for the first time\n",
    "\n",
    "a. Connect the keyboard, mouse to the Pi\n",
    "\n",
    "b. Next, connect the HDMI to the Pi and then to HDMI port on your display  screen.\n",
    "\n",
    "c. Now it is time to turn on our Raspberry Pi. When the memory card, HDMI    lead, Ethernet cable, mouse and keyboard \n",
    "are plugged in, plug in the power lead."
   ]
  },
  {
   "cell_type": "markdown",
   "metadata": {},
   "source": [
    "As soon as you do this. You screen should be black and filled with white text. This will be visible every time you turn on your raspberry pi. "
   ]
  },
  {
   "cell_type": "markdown",
   "metadata": {},
   "source": [
    "# Step 6"
   ]
  },
  {
   "cell_type": "markdown",
   "metadata": {},
   "source": [
    "Wait until your screen reads “raspberrypi login:”\n",
    "\n",
    "●\tUsername = pi\t\t\t [ENTER]\n",
    "\n",
    "●\tPassword = raspberry     [ENTER]\n"
   ]
  },
  {
   "cell_type": "code",
   "execution_count": 6,
   "metadata": {},
   "outputs": [
    {
     "data": {
      "text/html": [
       "<img src=\"http://www.circuitbasics.com/wp-content/uploads/2015/02/lcd-sudo-su.png\" , width=600, height=300>\n"
      ],
      "text/plain": [
       "<IPython.core.display.HTML object>"
      ]
     },
     "metadata": {},
     "output_type": "display_data"
    }
   ],
   "source": [
    "%%html\n",
    "<img src=\"http://www.circuitbasics.com/wp-content/uploads/2015/02/lcd-sudo-su.png\" , width=600, height=300>"
   ]
  },
  {
   "cell_type": "code",
   "execution_count": null,
   "metadata": {},
   "outputs": [],
   "source": []
  },
  {
   "cell_type": "markdown",
   "metadata": {},
   "source": [
    "# Step 7"
   ]
  },
  {
   "cell_type": "code",
   "execution_count": 7,
   "metadata": {},
   "outputs": [
    {
     "data": {
      "text/html": [
       "<img src=\"https://encrypted-tbn0.gstatic.com/images?q=tbn:ANd9GcSHgno6GaHiY-AKMKI6m7dWJev3-r3VwUGScMI4BDCULHXIyBXO\" , width=600, height=300>\n"
      ],
      "text/plain": [
       "<IPython.core.display.HTML object>"
      ]
     },
     "metadata": {},
     "output_type": "display_data"
    }
   ],
   "source": [
    "%%html\n",
    "<img src=\"https://encrypted-tbn0.gstatic.com/images?q=tbn:ANd9GcSHgno6GaHiY-AKMKI6m7dWJev3-r3VwUGScMI4BDCULHXIyBXO\" , width=600, height=300>"
   ]
  },
  {
   "cell_type": "markdown",
   "metadata": {},
   "source": [
    "# Programming on the Raspberry Pi"
   ]
  },
  {
   "cell_type": "markdown",
   "metadata": {},
   "source": [
    "Raspbian comes preloaded with Python, the official programming language of the Raspberry Pi and IDLE 3, a Python Integrated Development Environment.\n"
   ]
  },
  {
   "cell_type": "markdown",
   "metadata": {},
   "source": [
    "### Python:\n"
   ]
  },
  {
   "cell_type": "markdown",
   "metadata": {},
   "source": [
    "Python is a free to use programming language that runs on Windows, Linux/Unix, Mac OS X and has even been ported to Java and .NET virtual machines.\n"
   ]
  },
  {
   "cell_type": "markdown",
   "metadata": {},
   "source": [
    "### IDLE:"
   ]
  },
  {
   "cell_type": "markdown",
   "metadata": {},
   "source": [
    "In order to create our python-run programmes we will first need to write them. This is where IDLE comes in.\n",
    "\n",
    "IDLE is a special text editor software — like Microsoft Word — however it understands the language Python. This enables us to write in a language that our Raspberry Pi will be able to understand and interpret\n",
    "\n"
   ]
  },
  {
   "cell_type": "markdown",
   "metadata": {},
   "source": [
    "### If you dont have python Make sure to install by followning "
   ]
  },
  {
   "cell_type": "code",
   "execution_count": null,
   "metadata": {},
   "outputs": [],
   "source": [
    "sudo apt-get install python3"
   ]
  },
  {
   "cell_type": "markdown",
   "metadata": {},
   "source": [
    "# Key Applications of Raspberry Pi "
   ]
  },
  {
   "cell_type": "markdown",
   "metadata": {},
   "source": [
    "1.\t Low cost PC/tablet/laptop\n",
    "2.\t Industrial/Home automation •\n",
    "3.\t Print server\n",
    "4.\tWireless access point\n",
    "5.\tEnvironmental sensing/monitoring (e.g. weather station)\n",
    "6.\tIoT applications\n",
    "7.\tRobotics\n",
    "8.\tServer/cloud server\n"
   ]
  }
 ],
 "metadata": {
  "kernelspec": {
   "display_name": "Python 3",
   "language": "python",
   "name": "python3"
  },
  "language_info": {
   "codemirror_mode": {
    "name": "ipython",
    "version": 3
   },
   "file_extension": ".py",
   "mimetype": "text/x-python",
   "name": "python",
   "nbconvert_exporter": "python",
   "pygments_lexer": "ipython3",
   "version": "3.7.3"
  }
 },
 "nbformat": 4,
 "nbformat_minor": 2
}
