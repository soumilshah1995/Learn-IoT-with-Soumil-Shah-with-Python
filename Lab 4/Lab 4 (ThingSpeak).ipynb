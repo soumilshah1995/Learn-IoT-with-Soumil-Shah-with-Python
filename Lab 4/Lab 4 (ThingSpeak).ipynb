{
 "cells": [
  {
   "cell_type": "markdown",
   "metadata": {},
   "source": [
    "# Getting started with Open Source Cloud Server Upload any  Sensor Data to cloud Server ThingSpeak Complete Tutorial Read, Write with Example"
   ]
  },
  {
   "cell_type": "markdown",
   "metadata": {},
   "source": [
    "## ThingSpeak "
   ]
  },
  {
   "cell_type": "markdown",
   "metadata": {},
   "source": [
    "### Video Tutorial can be Found Below Link"
   ]
  },
  {
   "cell_type": "markdown",
   "metadata": {},
   "source": [
    "### Hard Way  Instead Method 2 shows uploading Data with 3 lines of Code"
   ]
  },
  {
   "cell_type": "code",
   "execution_count": 6,
   "metadata": {
    "scrolled": true
   },
   "outputs": [
    {
     "data": {
      "image/jpeg": "[encoded data removed]",
      "text/html": [
       "\n",
       "        <iframe\n",
       "            width=\"400\"\n",
       "            height=\"300\"\n",
       "            src=\"https://www.youtube.com/embed/jYeUS7JxmA8\"\n",
       "            frameborder=\"0\"\n",
       "            allowfullscreen\n",
       "        ></iframe>\n",
       "        "
      ],
      "text/plain": [
       "<IPython.lib.display.YouTubeVideo at 0x10d687fd0>"
      ]
     },
     "execution_count": 6,
     "metadata": {},
     "output_type": "execute_result"
    }
   ],
   "source": [
    "from IPython.display import YouTubeVideo\n",
    "YouTubeVideo('jYeUS7JxmA8')"
   ]
  },
  {
   "cell_type": "markdown",
   "metadata": {},
   "source": [
    "### Easy way "
   ]
  },
  {
   "cell_type": "code",
   "execution_count": 7,
   "metadata": {},
   "outputs": [
    {
     "data": {
      "image/jpeg": "[encoded data removed]",
      "text/html": [
       "\n",
       "        <iframe\n",
       "            width=\"400\"\n",
       "            height=\"300\"\n",
       "            src=\"https://www.youtube.com/embed/HM7_Urqoric\"\n",
       "            frameborder=\"0\"\n",
       "            allowfullscreen\n",
       "        ></iframe>\n",
       "        "
      ],
      "text/plain": [
       "<IPython.lib.display.YouTubeVideo at 0x10d69e828>"
      ]
     },
     "execution_count": 7,
     "metadata": {},
     "output_type": "execute_result"
    }
   ],
   "source": [
    "from IPython.display import YouTubeVideo\n",
    "YouTubeVideo('HM7_Urqoric')"
   ]
  },
  {
   "cell_type": "code",
   "execution_count": 8,
   "metadata": {
    "scrolled": false
   },
   "outputs": [
    {
     "data": {
      "text/html": [
       "<img src=\"https://cdn-images-1.medium.com/max/1600/1*sxA4dxPaJEr8julLO494kA.png\" , width=600, height=300>\n"
      ],
      "text/plain": [
       "<IPython.core.display.HTML object>"
      ]
     },
     "metadata": {},
     "output_type": "display_data"
    }
   ],
   "source": [
    "%%html\n",
    "<img src=\"https://cdn-images-1.medium.com/max/1600/1*sxA4dxPaJEr8julLO494kA.png\" , width=600, height=300>"
   ]
  },
  {
   "cell_type": "markdown",
   "metadata": {},
   "source": [
    "# Step 1: Go thingspeak website and Create your Account"
   ]
  },
  {
   "cell_type": "markdown",
   "metadata": {},
   "source": [
    "After creating your Account we ned to copy Read and Write API Keys shown in image below "
   ]
  },
  {
   "cell_type": "markdown",
   "metadata": {},
   "source": [
    "# Step 2 : Copy Credentials all all API keys "
   ]
  },
  {
   "cell_type": "code",
   "execution_count": 9,
   "metadata": {
    "scrolled": true
   },
   "outputs": [
    {
     "data": {
      "text/html": [
       "<img src=\"https://www.codeproject.com/KB/boards-embedded-devices/845538/Picture7_API_Keys.png\" , width=600, height=300>\n"
      ],
      "text/plain": [
       "<IPython.core.display.HTML object>"
      ]
     },
     "metadata": {},
     "output_type": "display_data"
    }
   ],
   "source": [
    "%%html\n",
    "<img src=\"https://www.codeproject.com/KB/boards-embedded-devices/845538/Picture7_API_Keys.png\" , width=600, height=300>"
   ]
  },
  {
   "cell_type": "markdown",
   "metadata": {},
   "source": [
    "# I am Going to teach you Both ways \n",
    "1. Upload the Data with 3 lines of code using Library that i have developed  \n",
    "2. Upload using URLlib and request Module"
   ]
  },
  {
   "cell_type": "markdown",
   "metadata": {},
   "source": [
    "# Method 1: Harder way"
   ]
  },
  {
   "cell_type": "markdown",
   "metadata": {},
   "source": [
    "Make sure to create a channel on thingspeak and make sure to make two Feilds as we are uploding data on Both the Field. one correspond to Temperture and other correspond to Humidty."
   ]
  },
  {
   "cell_type": "markdown",
   "metadata": {},
   "source": [
    "## Write Data "
   ]
  },
  {
   "cell_type": "code",
   "execution_count": null,
   "metadata": {},
   "outputs": [],
   "source": [
    "import urllib.request\n",
    "import requests\n",
    "import threading\n",
    "import json\n",
    "\n",
    "import random\n",
    "\n",
    "def thingspeak_post():\n",
    "    threading.Timer(15,thingspeak_post).start()\n",
    "    val=random.randint(1,30)\n",
    "    URl='https://api.thingspeak.com/update?api_key='\n",
    "    KEY=' -------WRITE KEY----------'\n",
    "    HEADER='&field1={}&field2={}'.format(val,val)\n",
    "    NEW_URL = URl+KEY+HEADER\n",
    "    print(NEW_URL)\n",
    "    data=urllib.request.urlopen(NEW_URL)\n",
    "    print(data)\n",
    "    \n",
    "if __name__ == '__main__':\n",
    "    thingspeak_post()\n",
    "\n"
   ]
  },
  {
   "cell_type": "markdown",
   "metadata": {},
   "source": [
    "# Method 2 Easy way with Three Line of Code "
   ]
  },
  {
   "cell_type": "markdown",
   "metadata": {},
   "source": [
    "## important Note:"
   ]
  },
  {
   "cell_type": "markdown",
   "metadata": {},
   "source": [
    "Assume your name of your python file is main and the code that i am about to show you is the library developed to do jon in 3 lines of code.\n",
    "Paster the Entire 500 Line of code in your File called main and all way down start writing your code"
   ]
  },
  {
   "cell_type": "markdown",
   "metadata": {},
   "source": [
    "Your copy the library python file in your working Directory and you can simple say from masterclass import *"
   ]
  },
  {
   "cell_type": "markdown",
   "metadata": {},
   "source": [
    "# Assume your Work Directory is \n",
    "\n",
    "Foldername ---- IoTclass\n",
    "\n",
    "                        > main.py\n",
    "                        \n",
    "                        > masterclass.py\n",
    "                        \n",
    "                    "
   ]
  },
  {
   "cell_type": "markdown",
   "metadata": {},
   "source": [
    "in your main Python File you will say from masterclass import *\n",
    "\n",
    "if that dosent work for some reason you can also copy entire 500 Line of library code in main.py and all the way down start writing your code "
   ]
  },
  {
   "cell_type": "markdown",
   "metadata": {},
   "source": [
    "## Code "
   ]
  },
  {
   "cell_type": "markdown",
   "metadata": {},
   "source": [
    "### Import Library "
   ]
  },
  {
   "cell_type": "code",
   "execution_count": null,
   "metadata": {},
   "outputs": [],
   "source": [
    "from masterclass import *\n"
   ]
  },
  {
   "cell_type": "markdown",
   "metadata": {},
   "source": [
    "### Assuming we want to post following values store in variable. Later on you can write your function for sensor which will give the actual sensor Data i will show you how to do that later"
   ]
  },
  {
   "cell_type": "code",
   "execution_count": null,
   "metadata": {},
   "outputs": [],
   "source": [
    "temperature = 22\n",
    "humidity = 11\n"
   ]
  },
  {
   "cell_type": "markdown",
   "metadata": {},
   "source": [
    "### Copy your API Keys READ KEY and WRITE KEY and CHANNEL ID"
   ]
  },
  {
   "cell_type": "code",
   "execution_count": null,
   "metadata": {},
   "outputs": [],
   "source": [
    "w_key = 'AZRMN9ZP5FKLXYLR'\n",
    "r_key = '17FSCQ4FTX6V4VWM'\n",
    "channel_id = 83234\n"
   ]
  },
  {
   "cell_type": "markdown",
   "metadata": {},
   "source": [
    "### Create a object "
   ]
  },
  {
   "cell_type": "code",
   "execution_count": null,
   "metadata": {},
   "outputs": [],
   "source": [
    "ob = Thingspeak(write_api_key=w_key, read_api_key=r_key, channel_id=channel_id)"
   ]
  },
  {
   "cell_type": "markdown",
   "metadata": {},
   "source": [
    "### Post the Data"
   ]
  },
  {
   "cell_type": "code",
   "execution_count": null,
   "metadata": {},
   "outputs": [],
   "source": [
    "ob.post_cloud(value1=temperature,value2=humidity)b"
   ]
  },
  {
   "cell_type": "markdown",
   "metadata": {},
   "source": [
    "## Wow its that Easy !"
   ]
  },
  {
   "cell_type": "markdown",
   "metadata": {},
   "source": [
    "### Entire Code Together !"
   ]
  },
  {
   "cell_type": "code",
   "execution_count": null,
   "metadata": {},
   "outputs": [],
   "source": [
    "from masterclass import *\n",
    "temperature = 22\n",
    "humidity = 11\n",
    "\n",
    "w_key = 'AZRMN9ZP5FKLXYLR'\n",
    "r_key = '17FSCQ4FTX6V4VWM'\n",
    "channel_id = 83234\n",
    "\n",
    "ob = Thingspeak(write_api_key=w_key, read_api_key=r_key, channel_id=channel_id)\n",
    "ob.post_cloud(value1=temperature,value2=humidity)"
   ]
  },
  {
   "cell_type": "markdown",
   "metadata": {},
   "source": [
    "# Sample Code using Master class."
   ]
  },
  {
   "cell_type": "markdown",
   "metadata": {},
   "source": [
    "### Use this Template for Coding !"
   ]
  },
  {
   "cell_type": "code",
   "execution_count": null,
   "metadata": {},
   "outputs": [],
   "source": [
    "try:\n",
    "\n",
    "    import numpy as np\n",
    "    from masterclass import *\n",
    "except:\n",
    "    print(\"Library not Found ! \")\n",
    "\n",
    "\n",
    "x  = []\n",
    "y1 = []\n",
    "y2 = []\n",
    "\n",
    "def sensor_random_value():\n",
    "    \"\"\"\n",
    "\n",
    "    Write you Raspberry pi Sensor Code Inside this\n",
    "    :return: Comma Seperated  Values\n",
    "    \"\"\"\n",
    "\n",
    "    x = np.random.randint(0, 20, None)              # create random value which resenble to sensor data Live\n",
    "    y = np.random.randint(0, 20, None)              # create a another random variable to store Data Sensor 2\n",
    "\n",
    "    my_sensor = \"{},{}\".format(x, y)                # create a Fake Data which represent the hardware data\n",
    "\n",
    "    return my_sensor\n",
    "\n",
    "\n",
    "def mymain():\n",
    "    x,y = sensor_random_value().split(',')\n",
    "\n",
    "    w_key = 'AZRMN9ZP5FKLXYLR'\n",
    "    r_key = '17FSCQ4FTX6V4VWM'\n",
    "    channel_id = 83234\n",
    "\n",
    "    ob = Thingspeak(write_api_key=w_key, read_api_key=r_key, channel_id=channel_id)\n",
    "    ob.post_cloud(value1=x,value2=y)\n",
    "\n",
    "\n",
    "if __name__ == \"__main__\":\n",
    "\n",
    "    mymain()\n"
   ]
  },
  {
   "cell_type": "markdown",
   "metadata": {},
   "source": [
    "# Upload DHT-11 Sensor Data to Cloud Server !"
   ]
  },
  {
   "cell_type": "code",
   "execution_count": null,
   "metadata": {},
   "outputs": [],
   "source": [
    "try: \n",
    "    import Adafruit_DHT\n",
    "    from masterclass import * \n",
    "except:\n",
    "    print(\"Library not Found !\")\n",
    "\n",
    "\n",
    "\n",
    "def sensor_value():\n",
    "    \n",
    "    # Example using a Raspberry Pi with DHT sensor\n",
    "    # connected to GPIO23.\n",
    "\n",
    "\n",
    "    pin = 4\n",
    "    sensor = Adafruit_DHT.DHT22\n",
    "    \n",
    "    humidity, temperature = Adafruit_DHT.read_retry(sensor, pin)\n",
    "    \n",
    "    if humidity is not None and temperature is not None:\n",
    "        print('Temp={0:0.1f}*C  Humidity={1:0.1f}%'.format(temperature, humidity))\n",
    "        data = '{},{}'.format(temperature,humidity)\n",
    "        return data\n",
    "        \n",
    "    else:\n",
    "        print('Failed to get reading. Try again!')\n",
    "\n",
    "def my_main():\n",
    "    \n",
    "    x,y = sensor_value().split(',')\n",
    "    \n",
    "    w_key = 'AZRMN9ZP5FKLXYLR'\n",
    "    r_key = '17FSCQ4FTX6V4VWM'\n",
    "    channel_id = 83234\n",
    "    \n",
    "    ob = Thingspeak(write_api_key=w_key, read_api_key=r_key, channel_id=channel_id)\n",
    "    ob.post_cloud(value1=x,value2=y)\n",
    "    \n",
    "\n",
    "if __name__ == \"__main__\":\n",
    "    my_main()\n",
    "\n"
   ]
  },
  {
   "cell_type": "markdown",
   "metadata": {},
   "source": [
    "# Using Timer Module to upload Data at a Interval of 10 Seconds on Cloud Server "
   ]
  },
  {
   "cell_type": "code",
   "execution_count": null,
   "metadata": {},
   "outputs": [],
   "source": [
    "try:\n",
    "    import Adafruit_DHT\n",
    "    from masterclass import *\n",
    "    import threading\n",
    "except:\n",
    "    print(\"Library not Found !\")\n",
    "\n",
    "\n",
    "\n",
    "def sensor_value():\n",
    "\n",
    "    # Example using a Raspberry Pi with DHT sensor\n",
    "    # connected to GPIO23.\n",
    "\n",
    "\n",
    "    pin = 4\n",
    "    sensor = Adafruit_DHT.DHT22\n",
    "\n",
    "    humidity, temperature = Adafruit_DHT.read_retry(sensor, pin)\n",
    "\n",
    "    if humidity is not None and temperature is not None:\n",
    "        print('Temp={0:0.1f}*C  Humidity={1:0.1f}%'.format(temperature, humidity))\n",
    "        data = '{},{}'.format(temperature,humidity)\n",
    "        return data\n",
    "\n",
    "    else:\n",
    "        print('Failed to get reading. Try again!')\n",
    "\n",
    "def my_main():\n",
    "    threading.Timer(interval=10,function=my_main).start()\n",
    "\n",
    "    x,y = sensor_value().split(',')\n",
    "\n",
    "    w_key = 'AZRMN9ZP5FKLXYLR'\n",
    "    r_key = '17FSCQ4FTX6V4VWM'\n",
    "    channel_id = 83234\n",
    "\n",
    "    ob = Thingspeak(write_api_key=w_key, read_api_key=r_key, channel_id=channel_id)\n",
    "    ob.post_cloud(value1=x,value2=y)\n",
    "\n",
    "\n",
    "if __name__ == \"__main__\":\n",
    "    my_main()\n",
    "\n"
   ]
  },
  {
   "cell_type": "markdown",
   "metadata": {},
   "source": [
    "# Reading Data From Cloud "
   ]
  },
  {
   "cell_type": "code",
   "execution_count": null,
   "metadata": {},
   "outputs": [],
   "source": [
    "print(ob.read_cloud(result=3))b"
   ]
  },
  {
   "cell_type": "markdown",
   "metadata": {},
   "source": [
    "## Try to interface Distance Sensor and Upload the Data to Cloud Server.\n"
   ]
  },
  {
   "cell_type": "markdown",
   "metadata": {},
   "source": [
    "# For Those who want to see my Library Code !"
   ]
  },
  {
   "cell_type": "code",
   "execution_count": null,
   "metadata": {},
   "outputs": [],
   "source": [
    "\"\"\"\"\n",
    "Author : Soumil shah\n",
    "Email : soushah@my.bridgeport.edu\n",
    "Version 1.0.1\n",
    "\n",
    "update: Changes made to class added private var and url and read url\n",
    "cannot be  changed !\n",
    "\n",
    "\"\"\"\n",
    "\n",
    "try:                                    # import the important library\n",
    "    from urllib import request\n",
    "    from urllib.request import urlopen\n",
    "    import threading                    # import threadding\n",
    "    import json                         # import json\n",
    "    import random                       # import random\n",
    "    import requests                     # import requests for web API\n",
    "    import ssl\n",
    "    import geocoder                     # for Locations\n",
    "    import datetime                     # for date time\n",
    "    from twilio.rest import Client      # for Sms\n",
    "    from serial import Serial           # for arduino\n",
    "    import numpy as np\n",
    "    from Adafruit_IO import Client      # for Adafruit IO\n",
    "    import os\n",
    "    from os import system                # For Text to speech\n",
    "    import paho.mqtt.publish as publish\n",
    "    import sqlite3                       # for Database\n",
    "    import paho.mqtt.publish as publish\n",
    "    import urllib                        # for web Api\n",
    "\n",
    "except:\n",
    "    print(\"No Library Found\")\n",
    "\n",
    "\n",
    "class Thingspeak(object):                       # define a class called Thingspeak\n",
    "\n",
    "    def __init__(self, write_api_key = None, read_api_key=None, channel_id=0):\n",
    "\n",
    "        \"\"\"\n",
    "\n",
    "        :param write_key:  takes a string of write api key\n",
    "        :param timer: can take integer values\n",
    "        \"\"\"\n",
    "\n",
    "        # self.url = 'https://api.thingspeak.com/update?api_key='\n",
    "        # self.read_url = 'https://api.thingspeak.com/channels/{}/feeds.json?api_key='.format(channel_id)\n",
    "\n",
    "        self.write_key = write_api_key\n",
    "        self.channel_id = channel_id\n",
    "        self.read_api_key = read_api_key\n",
    "\n",
    "        # Private Var cannot change\n",
    "        self.__url = 'http://api.thingspeak.com/update?api_key'\n",
    "        self.__read_url = 'https://api.thingspeak.com/channels/{}/feeds.json?api_key='.format(channel_id)\n",
    "\n",
    "\n",
    "        self.feild1 = []\n",
    "        self.feild2 = []\n",
    "\n",
    "    def post_cloud(self, value1, value2):\n",
    "        try:\n",
    "            \"\"\"\n",
    "            :param value1: can be interger or float\n",
    "            :param value2: can be interger or float\n",
    "            :return: updated to cloud storage\n",
    "            \"\"\"\n",
    "\n",
    "            URL = self.__url\n",
    "\n",
    "            KEY = self.write_key\n",
    "\n",
    "            HEADER = '&field1={}&field2={}'.format(str(value1), str(value2))\n",
    "\n",
    "            NEW_URL = str(URL) + \"=\" + str(KEY) + str(HEADER)\n",
    "            print(NEW_URL)\n",
    "\n",
    "            context = ssl._create_unverified_context()\n",
    "\n",
    "            data = request.urlopen(NEW_URL,context=context)\n",
    "            print(data)\n",
    "        except:\n",
    "            print('could not post to the cloud server ')\n",
    "\n",
    "    def read_cloud(self, result=1):\n",
    "        try:\n",
    "            \"\"\"\n",
    "            :param result: how many data you want to fetch accept interger\n",
    "            :return: Two List which contains Sensor data\n",
    "            \"\"\"\n",
    "\n",
    "            URL_R = self.__read_url\n",
    "            read_key = self.read_api_key\n",
    "            header_r = '&results={}'.format(result)\n",
    "\n",
    "            new_read_url = URL_R + read_key + header_r\n",
    "\n",
    "            data = requests.get(new_read_url).json()\n",
    "\n",
    "            field1 = data['feeds']\n",
    "\n",
    "            for x in field1:\n",
    "                self.feild1.append(x['field1'])\n",
    "                self.feild2.append(x['field2'])\n",
    "\n",
    "            return self.feild1, self.feild2\n",
    "        except:\n",
    "            print('read_cloud failed !!!! ')\n",
    "\n",
    "\n",
    "class IfTTT(object):\n",
    "\n",
    "    def __init__(self, eventname='', key=''):\n",
    "\n",
    "        self.eventname = eventname\n",
    "        self.Key = key\n",
    "\n",
    "        self.__Url = 'https://maker.ifttt.com/trigger/{}/with/key/'.format(self.eventname)\n",
    "\n",
    "        self.New_Url = self.__Url + self.Key\n",
    "\n",
    "        print(self.New_Url)\n",
    "\n",
    "    def iftt_post(self, data1=10, data2=11):\n",
    "        try:\n",
    "            \"\"\"\n",
    "            :param data1:  pass your sensor value only integer\n",
    "            :param data2: pass your data as interger only\n",
    "            :return:      True if it was successful\n",
    "            \"\"\"\n",
    "\n",
    "            URl = self.New_Url\n",
    "            Key = self.Key\n",
    "            payload = {'value1': data1,\n",
    "                       'value2': data2}\n",
    "\n",
    "            requests.post(self.New_Url, data=payload)\n",
    "            print(\"Done posted on IFTTT\")\n",
    "\n",
    "            return True\n",
    "        except:\n",
    "            print('failed to post to cloud sever ! ')\n",
    "\n",
    "\n",
    "class Location(object):\n",
    "\n",
    "    def __init__(self):\n",
    "        pass\n",
    "\n",
    "    def get_locations(self):\n",
    "\n",
    "        \"\"\"\n",
    "        :return: Lat and Long\n",
    "        \"\"\"\n",
    "        try:\n",
    "            g = geocoder.ip('me')\n",
    "            my_string=g.latlng\n",
    "            longitude=my_string[0]\n",
    "            latitude=my_string[1]\n",
    "\n",
    "            return longitude,latitude\n",
    "        except:\n",
    "            print('Error make sure you have Geo-Coder Installed ')\n",
    "\n",
    "\n",
    "class DateandTime(object):\n",
    "\n",
    "    def __init__(self):\n",
    "        pass\n",
    "\n",
    "    @ staticmethod\n",
    "    def get_time_date():\n",
    "        try:\n",
    "            \"\"\"\n",
    "            :return:  date and time\n",
    "            \"\"\"\n",
    "            my = datetime.datetime.now()\n",
    "            data_time = '{}:{}:{}'.format(my.hour,my.minute,my.second)\n",
    "            data_date = '{}/{}/{}'.format(my.day,my.month,my.year)\n",
    "            return data_date,data_time\n",
    "        except:\n",
    "            print('could now get date and time ')\n",
    "\n",
    "    def convert_timestamp(self,timestamp):\n",
    "        timestamp = 1554506464\n",
    "        dt_object = datetime.fromtimestamp(timestamp)\n",
    "        return dt_object\n",
    "\n",
    "\n",
    "class Weather_details(object):\n",
    "\n",
    "    def __init__(self,key='', city=''):\n",
    "        self.city = city\n",
    "        self.key = key\n",
    "\n",
    "\n",
    "    def get_weather_data(self):\n",
    "        try:\n",
    "            city = self.city\n",
    "            key = self.key\n",
    "\n",
    "            URL='http://api.openweathermap.org/data/2.5/weather?appid={}&q={}'.format(key,city)\n",
    "            print(URL)\n",
    "\n",
    "            data = requests.get(URL).json()\n",
    "            long = data['coord']['lon']\n",
    "            lat = data['coord']['lat']\n",
    "            humidity = data['main']['humidity']\n",
    "            wind_speed = data['wind']['speed']\n",
    "            wind_degree = data['wind']['deg']\n",
    "            sunrise = data['sys']['sunrise']\n",
    "            sunset = data['sys']['sunset']\n",
    "\n",
    "            m1 = data['weather'][0]['description']\n",
    "            m2 = data['weather'][0]['main']\n",
    "            body = '{} {}'.format(m1, m2)\n",
    "\n",
    "            return long, lat, humidity, wind_speed, wind_degree, sunrise, sunset,body\n",
    "\n",
    "        except:\n",
    "            print('Error occured ')\n",
    "\n",
    "\n",
    "class Arduino(object):\n",
    "\n",
    "    def __init__(self,comport='/dev/cu.usbmodem14101', baudrate=9600):\n",
    "        self.comport = comport\n",
    "        self.baudrate = baudrate\n",
    "\n",
    "    def read_data(self):\n",
    "        try:\n",
    "            \"\"\"\n",
    "            :return: data after reading from serial object\n",
    "            \"\"\"\n",
    "            arduino = Serial(self.comport, self.baudrate,timeout=1)\n",
    "            data =  arduino.readline().decode('ascii')\n",
    "            return data\n",
    "        except:\n",
    "            print(\"please check your com port and baud rate \")\n",
    "\n",
    "    def write_data(self,data='1'):\n",
    "        try:\n",
    "\n",
    "            \"\"\"\n",
    "    \n",
    "            :param data: pass string 1 or 0 or any character and write if statment in Arduino\n",
    "            to compare and trigger events\n",
    "            :return: NONE\n",
    "            \"\"\"\n",
    "\n",
    "            arduinodata = Serial(self.comport, self.baudrate,timeout=1)\n",
    "            data_send = data.encode('utf-8')\n",
    "            arduinodata.write(data_send)\n",
    "        except:\n",
    "            print(\"cannot write data please check com port and baud rate \")\n",
    "\n",
    "\n",
    "class Adafruit_cloud():\n",
    "\n",
    "    def __init__(self, username='', Aio_key=''):\n",
    "\n",
    "        self.username = username\n",
    "        self.Aio_key = Aio_key\n",
    "        self.aio = Client(self.username,self.Aio_key)\n",
    "        self.feed_name = []\n",
    "\n",
    "    def adafruit_send(self,feed_name='',data=''):\n",
    "        try:\n",
    "            sensor = self.aio.feeds(feed_name)\n",
    "            self.aio.send_data(sensor.key,data)\n",
    "            print('Data was uploaded ')\n",
    "        except:\n",
    "            print(\"cannot send Data !\")\n",
    "\n",
    "\n",
    "    def adafruit_get(self, feedname=''):\n",
    "        try:\n",
    "            data = self.aio.receive(feedname)\n",
    "            return data.value\n",
    "        except:\n",
    "            print('cannot get data ! ')\n",
    "\n",
    "    def adafruit_feed_list(self):\n",
    "        try:\n",
    "\n",
    "            feeds = self.aio.feeds()\n",
    "            for f in feeds:\n",
    "                print(f)\n",
    "                self.feed_name.append(f.name)\n",
    "\n",
    "            return self.feed_name\n",
    "        except:\n",
    "            print(\"cannot get feed list ! \")\n",
    "\n",
    "\n",
    "class TextSpeech_Mac(object):\n",
    "\n",
    "    def __init__(self):\n",
    "        \"\"\"\n",
    "        This script works for mac only\n",
    "        \"\"\"\n",
    "        pass\n",
    "\n",
    "    def speak(self,text):\n",
    "        try:\n",
    "\n",
    "            \"\"\"\n",
    "            :param text:  Takes String as Input\n",
    "            :return: Return None\n",
    "            \"\"\"\n",
    "            system(\"say {}\".format(text))\n",
    "        except:\n",
    "            print(\"This works  for mac only ! \")\n",
    "\n",
    "\n",
    "class Mqtt(object):\n",
    "\n",
    "    def __init__(self, data):\n",
    "        self.data= data\n",
    "        self.hostname=\"test.mosquitto.org\"\n",
    "        self.topic = ''\n",
    "\n",
    "    def post(self):\n",
    "        \"\"\"\n",
    "        POst teh \n",
    "        :return:\n",
    "        \"\"\"\n",
    "        publish.single(self.topic, \"{}\".format(self.data), hostname=self.hostname)\n",
    "\n",
    "\n",
    "class YoutubeSub(object):\n",
    "\n",
    "    def __init__(self,name ='',google_key=''):\n",
    "        \"\"\"\n",
    "\n",
    "        :param name: Name of Youtube Person , Google Cloud API key\n",
    "        :param google_key:\n",
    "        \"\"\"\n",
    "        self.name = name\n",
    "        self.google_key = google_key\n",
    "        self.context = ssl._create_unverified_context()\n",
    "\n",
    "    def get_subscriber(self):\n",
    "\n",
    "        \"\"\"\n",
    "        :return: Youtube Sub Count\n",
    "        \"\"\"\n",
    "        self.url = 'https://www.googleapis.com/youtube/v3/channels?part=statistics&forUsername=' \\\n",
    "                   + self.name+'&key='+self.google_key\n",
    "\n",
    "        data = urllib.request.urlopen(self.url, context=self.context).read()\n",
    "        subs = json.loads(data)[\"items\"][0][\"statistics\"][\"subscriberCount\"]\n",
    "        subs = int(subs)\n",
    "        return subs\n",
    "\n",
    "\n",
    "class Text_MP3_converter(object):\n",
    "\n",
    "    def __init__(self):\n",
    "\n",
    "        self.__url = 'https://text-to-speech-demo.ng.bluemix.net/api/v1/synthesize?t'\n",
    "        self.__header ={\n",
    "    'Accept-Encoding': 'gzip, deflate, sdch',\n",
    "    'Accept-Language': 'en-US,en;q=0.8',\n",
    "    'User-Agent': 'Mozilla/5.0 (Macintosh; Intel Mac OS X 10_10_1) AppleWebKit/537.36 (KHTML, like Gecko) Chrome/39.0.2171.95 Safari/537.36',\n",
    "    'Accept': 'text/html,application/xhtml+xml,application/xml;q=0.9,image/webp,*/*;q=0.8',\n",
    "    'Referer': 'http://www.wikipedia.org/',\n",
    "    'Connection': 'keep-alive'}\n",
    "\n",
    "        self.__params = {\n",
    "            'text': 'hello everyone i am going to teach you python',\n",
    "            'voice': 'en-US_AllisonV2Voice',\n",
    "            'download': True,\n",
    "            'accept': 'audio/mp3'}\n",
    "\n",
    "    def text_audio(self,name ='test', text='hello world'):\n",
    "\n",
    "        \"\"\"\n",
    "\n",
    "            :param name_file:\n",
    "            :param text:\n",
    "            :return:  saves MP3 File on your computer\n",
    "        \"\"\"\n",
    "        try:\n",
    "            response = requests.get(self.__url, headers=self.__header,params=self.__params)\n",
    "\n",
    "            with open(\"{}.mp3\".format(name),'wb') as f:\n",
    "                f.write(response.content)\n",
    "                print(\"File has been downloaded on your computer with name {}\".format(name))\n",
    "        except:\n",
    "            print('Error cannot convert File')\n",
    "\n",
    "\n",
    "class Spotifypy(object):\n",
    "\n",
    "    def __init__(self,client_id='', client_secret='',oauth_token=''):\n",
    "        self.client_id = client_id\n",
    "        self.client_secret = client_secret\n",
    "        self.oauth_token = oauth_token\n",
    "\n",
    "        self.__header = {'Authorization': self.oauth_token,\n",
    "                  'Accept':'application/json',\n",
    "                  'Content-Type':'application/json'}\n",
    "\n",
    "\n",
    "    def play_song(self):\n",
    "\n",
    "        self.__url_play = 'https://api.spotify.com/v1/me/player/play'\n",
    "        response = requests.put(self.__url_play, headers=self.__header)\n",
    "        print(response)\n",
    "\n",
    "    def pause_song(self):\n",
    "        self.__url_pause = 'https://api.spotify.com/v1/me/player/pause'\n",
    "        response = requests.put(self.__url_pause, headers=self.__header)\n",
    "        print(response)\n",
    "\n",
    "    def get_recommendation(self):\n",
    "\n",
    "        self.__url_recommendation = 'https://api.spotify.com/v1/recommendations/available-genre-seeds'\n",
    "        response = requests.get(self.__url_recommendation, headers=self.__header)\n",
    "        # print(response.json())\n",
    "        return response.json()\n",
    "\n",
    "\n",
    "    def get_device(self):\n",
    "\n",
    "        self.__url_device = 'https://api.spotify.com/v1/me/player/devices'\n",
    "        response = requests.get(self.__url_recommendation, headers=self.__header)\n",
    "        return response.json()\n",
    "\n",
    "\n",
    "class Converter(object):\n",
    "\n",
    "    def __init__(self):\n",
    "        self.__url = \"https://www.binaryhexconverter.com/hesapla.php\"\n",
    "        self.__params = {\n",
    "            'fonksiyon': 'dec2hex',\n",
    "            'deger': 12,\n",
    "            'pad': False,\n",
    "            'v': 2\n",
    "        }\n",
    "    def bin2hex(self,binnum=1):\n",
    "\n",
    "        self.__params['deger'] = binnum\n",
    "        self.__params['fonksiyon'] = 'bin2hex'\n",
    "        response = requests.get(self.__url,params=self.__params)\n",
    "        return response.text\n",
    "\n",
    "    def bin2dec(self, binnum=1):\n",
    "\n",
    "        self.__params['deger'] = binnum\n",
    "        self.__params['fonksiyon'] = 'bin2dec'\n",
    "        response = requests.get(self.__url, params=self.__params)\n",
    "        return response.text\n",
    "\n",
    "    def bin2asc(self,binnum=1):\n",
    "\n",
    "        self.__params['deger'] = binnum\n",
    "        self.__params['fonksiyon'] = 'bin2asc'\n",
    "        response = requests.get(self.__url, params=self.__params)\n",
    "        return response.text\n",
    "\n",
    "    def hex2bin(self, hexnum ='A'):\n",
    "        self.__params['deger'] = hexnum\n",
    "        self.__params['fonksiyon'] = 'hex2bin'\n",
    "        response = requests.get(self.__url, params=self.__params)\n",
    "        return response.text\n",
    "\n",
    "\n",
    "    def hex2dec(self,hexnum ='A'):\n",
    "\n",
    "        self.__params['deger'] = hexnum\n",
    "        self.__params['fonksiyon'] = 'hex2dec'\n",
    "        response = requests.get(self.__url, params=self.__params)\n",
    "        return response.text\n",
    "\n",
    "    def dec2hex(self, decnum='10'):\n",
    "\n",
    "        self.__params['deger'] = decnum\n",
    "        self.__params['fonksiyon'] = 'dec2hex'\n",
    "        response = requests.get(self.__url, params=self.__params)\n",
    "        return response.text\n",
    "\n",
    "    def dec2bin(self, decnum='10'):\n",
    "\n",
    "        self.__params['deger'] = decnum\n",
    "        self.__params['fonksiyon'] = 'dec2bin'\n",
    "        response = requests.get(self.__url, params=self.__params)\n",
    "        return response.text\n",
    "\n",
    "    def dec2oct(self, decnum='10'):\n",
    "\n",
    "        self.__params['deger'] = decnum\n",
    "        self.__params['fonksiyon'] = 'dec2oct'\n",
    "        response = requests.get(self.__url, params=self.__params)\n",
    "        return response.text\n"
   ]
  },
  {
   "cell_type": "markdown",
   "metadata": {},
   "source": [
    "# Thanks for Reading !\n"
   ]
  }
 ],
 "metadata": {
  "kernelspec": {
   "display_name": "Python 3",
   "language": "python",
   "name": "python3"
  },
  "language_info": {
   "codemirror_mode": {
    "name": "ipython",
    "version": 3
   },
   "file_extension": ".py",
   "mimetype": "text/x-python",
   "name": "python",
   "nbconvert_exporter": "python",
   "pygments_lexer": "ipython3",
   "version": "3.7.3"
  }
 },
 "nbformat": 4,
 "nbformat_minor": 2
}
