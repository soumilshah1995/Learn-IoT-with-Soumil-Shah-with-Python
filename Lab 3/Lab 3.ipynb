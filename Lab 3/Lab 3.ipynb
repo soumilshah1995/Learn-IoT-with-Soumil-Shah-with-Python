{
 "cells": [
  {
   "cell_type": "markdown",
   "metadata": {},
   "source": [
    "# Server and Client Send Actual Sensor Data over Network using Raspberry Pi "
   ]
  },
  {
   "cell_type": "markdown",
   "metadata": {},
   "source": [
    "### objective"
   ]
  },
  {
   "cell_type": "markdown",
   "metadata": {},
   "source": [
    "In this Experiment we shall learn to create our own server and client with raspberyy pi uisng python Socket Programming."
   ]
  },
  {
   "cell_type": "markdown",
   "metadata": {},
   "source": [
    "Our Tagrget is to create a server. the server would be Running 24x7 on Raspberry pi and server is always listening for request from client \n",
    "When a client request server it shall send the Temperature and Humidty over Network using Socket  Programming"
   ]
  },
  {
   "cell_type": "markdown",
   "metadata": {},
   "source": [
    "## Video Tutorial can be found below link"
   ]
  },
  {
   "cell_type": "code",
   "execution_count": 17,
   "metadata": {
    "scrolled": true
   },
   "outputs": [
    {
     "data": {
      "image/jpeg": "[encoded data removed]",
      "text/html": [
       "\n",
       "        <iframe\n",
       "            width=\"400\"\n",
       "            height=\"300\"\n",
       "            src=\"https://www.youtube.com/embed/QihjI84Z2tQ\"\n",
       "            frameborder=\"0\"\n",
       "            allowfullscreen\n",
       "        ></iframe>\n",
       "        "
      ],
      "text/plain": [
       "<IPython.lib.display.YouTubeVideo at 0x10beb9588>"
      ]
     },
     "execution_count": 17,
     "metadata": {},
     "output_type": "execute_result"
    }
   ],
   "source": [
    "from IPython.display import YouTubeVideo\n",
    "YouTubeVideo('QihjI84Z2tQ')"
   ]
  },
  {
   "cell_type": "markdown",
   "metadata": {},
   "source": [
    "## Getting Started with Raspberry pi "
   ]
  },
  {
   "cell_type": "code",
   "execution_count": 21,
   "metadata": {},
   "outputs": [
    {
     "data": {
      "image/jpeg": "[encoded data removed]",
      "text/html": [
       "\n",
       "        <iframe\n",
       "            width=\"400\"\n",
       "            height=\"300\"\n",
       "            src=\"https://www.youtube.com/embed/qL2ClHYEuog\"\n",
       "            frameborder=\"0\"\n",
       "            allowfullscreen\n",
       "        ></iframe>\n",
       "        "
      ],
      "text/plain": [
       "<IPython.lib.display.YouTubeVideo at 0x10beb93c8>"
      ]
     },
     "execution_count": 21,
     "metadata": {},
     "output_type": "execute_result"
    }
   ],
   "source": [
    "from IPython.display import YouTubeVideo\n",
    "YouTubeVideo('qL2ClHYEuog')"
   ]
  },
  {
   "cell_type": "markdown",
   "metadata": {},
   "source": [
    "### Connection Diagram"
   ]
  },
  {
   "cell_type": "code",
   "execution_count": 14,
   "metadata": {},
   "outputs": [
    {
     "data": {
      "text/html": [
       "<img src=\"http://www.circuitbasics.com/wp-content/uploads/2015/12/How-to-Setup-the-DHT11-on-the-Raspberry-Pi-Three-pin-DHT11-Wiring-Diagram.png\" , width=600, height=300>\n"
      ],
      "text/plain": [
       "<IPython.core.display.HTML object>"
      ]
     },
     "metadata": {},
     "output_type": "display_data"
    }
   ],
   "source": [
    "%%html\n",
    "<img src=\"http://www.circuitbasics.com/wp-content/uploads/2015/12/How-to-Setup-the-DHT11-on-the-Raspberry-Pi-Three-pin-DHT11-Wiring-Diagram.png\" , width=600, height=300>"
   ]
  },
  {
   "cell_type": "markdown",
   "metadata": {},
   "source": [
    "###  DHT Pinout"
   ]
  },
  {
   "cell_type": "code",
   "execution_count": 15,
   "metadata": {},
   "outputs": [
    {
     "data": {
      "text/html": [
       "<img src=\"http://www.circuitbasics.com/wp-content/uploads/2015/12/DHT11-Pinout-for-three-pin-and-four-pin-types-2.jpg\" , width=600, height=300>\n"
      ],
      "text/plain": [
       "<IPython.core.display.HTML object>"
      ]
     },
     "metadata": {},
     "output_type": "display_data"
    }
   ],
   "source": [
    "%%html\n",
    "<img src=\"http://www.circuitbasics.com/wp-content/uploads/2015/12/DHT11-Pinout-for-three-pin-and-four-pin-types-2.jpg\" , width=600, height=300>"
   ]
  },
  {
   "cell_type": "markdown",
   "metadata": {},
   "source": [
    "# Step 1: Create Server"
   ]
  },
  {
   "cell_type": "markdown",
   "metadata": {},
   "source": [
    "Define the Library"
   ]
  },
  {
   "cell_type": "code",
   "execution_count": 2,
   "metadata": {},
   "outputs": [],
   "source": [
    "import socket\n",
    "import numpy as np\n",
    "import encodings"
   ]
  },
  {
   "cell_type": "markdown",
   "metadata": {},
   "source": [
    "Define the HOST and PORT "
   ]
  },
  {
   "cell_type": "code",
   "execution_count": null,
   "metadata": {},
   "outputs": [],
   "source": [
    "HOST = '127.0.0.1'  # Standard loopback interface address (localhost)\n",
    "PORT = 65432        # Port to listen on (non-privileged ports are > 1023)\n"
   ]
  },
  {
   "cell_type": "markdown",
   "metadata": {},
   "source": [
    "For the Experiment we shall send Dummy Data and then once we know the concept we can send actual Sensor value over the socket programming."
   ]
  },
  {
   "cell_type": "markdown",
   "metadata": {},
   "source": [
    "### Define the function which will send dummy data when client sends request"
   ]
  },
  {
   "cell_type": "code",
   "execution_count": null,
   "metadata": {},
   "outputs": [],
   "source": [
    "def random_data():\n",
    "\n",
    "    x1 = np.random.randint(0, 55, None)         # Dummy temperature\n",
    "    y1 = np.random.randint(0, 45, None)         # Dummy humidigy\n",
    "    my_sensor = \"{},{}\".format(x1,y1)\n",
    "    return my_sensor                            # return data seperated by comma\n"
   ]
  },
  {
   "cell_type": "markdown",
   "metadata": {},
   "source": [
    "### Define the actual server when client sends string Data it shall send Data "
   ]
  },
  {
   "cell_type": "code",
   "execution_count": null,
   "metadata": {},
   "outputs": [],
   "source": [
    "def my_server():\n",
    "\n",
    "    with socket.socket(socket.AF_INET, socket.SOCK_STREAM) as s:\n",
    "        print(\"Server Started waiting for client to connect \")\n",
    "        s.bind((HOST, PORT))\n",
    "        s.listen(5)\n",
    "        conn, addr = s.accept()\n",
    "\n",
    "        with conn:\n",
    "            print('Connected by', addr)\n",
    "            while True:\n",
    "\n",
    "                data = conn.recv(1024).decode('utf-8')\n",
    "\n",
    "                if str(data) == \"Data\":\n",
    "\n",
    "                    print(\"Ok Sending data \")\n",
    "\n",
    "                    my_data = random_data()\n",
    "\n",
    "                    x_encoded_data = my_data.encode('utf-8')\n",
    "\n",
    "                    conn.sendall(x_encoded_data)\n",
    "\n",
    "                elif  str(data) == \"Quit\":\n",
    "                    print(\"shutting down server \")\n",
    "                    break\n",
    "\n",
    "\n",
    "                if not data:\n",
    "                    break\n",
    "                else:\n",
    "                    pass"
   ]
  },
  {
   "cell_type": "code",
   "execution_count": null,
   "metadata": {},
   "outputs": [],
   "source": [
    "if __name__ == '__main__':\n",
    "    while 1:\n",
    "        my_server()"
   ]
  },
  {
   "cell_type": "markdown",
   "metadata": {},
   "source": [
    "### Explanation"
   ]
  },
  {
   "cell_type": "markdown",
   "metadata": {},
   "source": [
    "when client sends Data as a string server will send sensor data over the network "
   ]
  },
  {
   "cell_type": "markdown",
   "metadata": {},
   "source": [
    "# Entire Code for Server"
   ]
  },
  {
   "cell_type": "code",
   "execution_count": null,
   "metadata": {},
   "outputs": [],
   "source": [
    "import socket\n",
    "import numpy as np\n",
    "import encodings\n",
    "\n",
    "HOST = '127.0.0.1'  # Standard loopback interface address (localhost)\n",
    "PORT = 65432        # Port to listen on (non-privileged ports are > 1023)\n",
    "\n",
    "\n",
    "def random_data():\n",
    "\n",
    "    x1 = np.random.randint(0, 55, None)         # Dummy temperature\n",
    "    y1 = np.random.randint(0, 45, None)         # Dummy humidigy\n",
    "    my_sensor = \"{},{}\".format(x1,y1)\n",
    "    return my_sensor                            # return data seperated by comma\n",
    "\n",
    "\n",
    "\n",
    "\n",
    "def my_server():\n",
    "\n",
    "    with socket.socket(socket.AF_INET, socket.SOCK_STREAM) as s:\n",
    "        print(\"Server Started waiting for client to connect \")\n",
    "        s.bind((HOST, PORT))\n",
    "        s.listen(5)\n",
    "        conn, addr = s.accept()\n",
    "\n",
    "        with conn:\n",
    "            print('Connected by', addr)\n",
    "            while True:\n",
    "\n",
    "                data = conn.recv(1024).decode('utf-8')\n",
    "\n",
    "                if str(data) == \"Data\":\n",
    "\n",
    "                    print(\"Ok Sending data \")\n",
    "\n",
    "                    my_data = random_data()\n",
    "\n",
    "                    x_encoded_data = my_data.encode('utf-8')\n",
    "\n",
    "                    conn.sendall(x_encoded_data)\n",
    "\n",
    "                elif  str(data) == \"Quit\":\n",
    "                    print(\"shutting down server \")\n",
    "                    break\n",
    "\n",
    "\n",
    "                if not data:\n",
    "                    break\n",
    "                else:\n",
    "                    pass\n",
    "\n",
    "\n",
    "if __name__ == '__main__':\n",
    "    while 1:\n",
    "        my_server()"
   ]
  },
  {
   "cell_type": "markdown",
   "metadata": {},
   "source": [
    "# Step 2: Write the Code for Client "
   ]
  },
  {
   "cell_type": "markdown",
   "metadata": {},
   "source": [
    "### Import library "
   ]
  },
  {
   "cell_type": "code",
   "execution_count": null,
   "metadata": {},
   "outputs": [],
   "source": [
    "import socket\n",
    "import threading\n",
    "import time\n"
   ]
  },
  {
   "cell_type": "markdown",
   "metadata": {},
   "source": [
    "###  Define the HOST and PORT"
   ]
  },
  {
   "cell_type": "code",
   "execution_count": null,
   "metadata": {},
   "outputs": [],
   "source": [
    "\n",
    "HOST = '192.168.0.111'  # The server's hostname or IP address\n",
    "PORT = 65432        # The port used by the server"
   ]
  },
  {
   "cell_type": "markdown",
   "metadata": {},
   "source": [
    "### we need to process the Data that server sends us lets us define a function for that "
   ]
  },
  {
   "cell_type": "code",
   "execution_count": null,
   "metadata": {},
   "outputs": [],
   "source": [
    "def process_data_from_server(x):\n",
    "    x1, y1 = x.split(\",\")\n",
    "    return x1,y1\n"
   ]
  },
  {
   "cell_type": "markdown",
   "metadata": {},
   "source": [
    "### Write the Client Code"
   ]
  },
  {
   "cell_type": "code",
   "execution_count": null,
   "metadata": {},
   "outputs": [],
   "source": [
    "def my_client():\n",
    "    threading.Timer(11, my_client).start()\n",
    "\n",
    "    with socket.socket(socket.AF_INET, socket.SOCK_STREAM) as s:\n",
    "        s.connect((HOST, PORT))\n",
    "\n",
    "        my = input(\"Enter command \")\n",
    "\n",
    "        #my = \"Data\"\n",
    "\n",
    "        my_inp = my.encode('utf-8')\n",
    "\n",
    "        s.sendall(my_inp)\n",
    "\n",
    "        data = s.recv(1024).decode('utf-8')\n",
    "\n",
    "        x_temperature,y_humidity = process_data_from_server(data)\n",
    "\n",
    "        print(\"Temperature {}\".format(x_temperature))\n",
    "        print(\"Humidity {}\".format(y_humidity))\n",
    "\n",
    "        s.close()\n",
    "        time.sleep(5)\n"
   ]
  },
  {
   "cell_type": "code",
   "execution_count": null,
   "metadata": {},
   "outputs": [],
   "source": [
    "if __name__ == \"__main__\":\n",
    "    while 1:\n",
    "        my_client()"
   ]
  },
  {
   "cell_type": "markdown",
   "metadata": {},
   "source": [
    "# Entire Client Code "
   ]
  },
  {
   "cell_type": "code",
   "execution_count": null,
   "metadata": {},
   "outputs": [],
   "source": [
    "import socket\n",
    "import threading\n",
    "import time\n",
    "\n",
    "\n",
    "HOST = '192.168.0.111'  # The server's hostname or IP address\n",
    "PORT = 65432        # The port used by the server\n",
    "\n",
    "\n",
    "def process_data_from_server(x):\n",
    "    x1, y1 = x.split(\",\")\n",
    "    return x1,y1\n",
    "\n",
    "\n",
    "def my_client():\n",
    "    threading.Timer(11, my_client).start()\n",
    "\n",
    "    with socket.socket(socket.AF_INET, socket.SOCK_STREAM) as s:\n",
    "        s.connect((HOST, PORT))\n",
    "\n",
    "        my = input(\"Enter command \")\n",
    "\n",
    "        #my = \"Data\"\n",
    "\n",
    "        my_inp = my.encode('utf-8')\n",
    "\n",
    "        s.sendall(my_inp)\n",
    "\n",
    "        data = s.recv(1024).decode('utf-8')\n",
    "\n",
    "        x_temperature,y_humidity = process_data_from_server(data)\n",
    "\n",
    "        print(\"Temperature {}\".format(x_temperature))\n",
    "        print(\"Humidity {}\".format(y_humidity))\n",
    "\n",
    "        s.close()\n",
    "        time.sleep(5)\n",
    "\n",
    "\n",
    "if __name__ == \"__main__\":\n",
    "    while 1:\n",
    "        my_client()"
   ]
  },
  {
   "cell_type": "markdown",
   "metadata": {},
   "source": [
    "# Great Job try the Code and lets send Actual Sensor Data over Network"
   ]
  },
  {
   "cell_type": "markdown",
   "metadata": {},
   "source": [
    "# Server Code which will run on Raspberry pi"
   ]
  },
  {
   "cell_type": "code",
   "execution_count": null,
   "metadata": {},
   "outputs": [],
   "source": [
    "import socket\n",
    "import numpy as np\n",
    "import encodings\n",
    "import Adafruit_DHT\n",
    "\n",
    "\n",
    "HOST = '192.168.1.4'  # Standard loopback interface address (localhost)\n",
    "PORT = 65432        # Port to listen on (non-privileged ports are > 1023)\n",
    "\n",
    "\n",
    "def random_data():\n",
    "    pin = 4\n",
    "    sensor = Adafruit_DHT.DHT22\n",
    "    humidity, temperature = Adafruit_DHT.read_retry(sensor, pin)\n",
    "\n",
    "    if humidity is not None and temperature is not None:\n",
    "        print('Temp={0:0.1f}*C  Humidity={1:0.1f}%'.format(temperature, humidity))\n",
    "        print(\"data was written on database T{} H{}\".format(temperature,humidity))\n",
    "        data = '{},{}'.format(temperature,humidity)\n",
    "        return data\n",
    "\n",
    "\n",
    "\n",
    "\n",
    "\n",
    "def my_server():\n",
    "\n",
    "    with socket.socket(socket.AF_INET, socket.SOCK_STREAM) as s:\n",
    "        print(\"Server Started waiting for client to connect \")\n",
    "        s.bind((HOST, PORT))\n",
    "        s.listen(5)\n",
    "        conn, addr = s.accept()\n",
    "\n",
    "        with conn:\n",
    "            print('Connected by', addr)\n",
    "            while True:\n",
    "\n",
    "                data = conn.recv(1024).decode('utf-8')\n",
    "\n",
    "                if str(data) == \"Data\":\n",
    "\n",
    "                    print(\"Ok Sending data \")\n",
    "\n",
    "                    my_data = random_data()\n",
    "\n",
    "                    x_encoded_data = my_data.encode('utf-8')\n",
    "\n",
    "                    conn.sendall(x_encoded_data)\n",
    "\n",
    "                elif  str(data) == \"Quit\":\n",
    "                    print(\"shutting down server \")\n",
    "                    break\n",
    "\n",
    "\n",
    "                if not data:\n",
    "                    break\n",
    "                else:\n",
    "                    pass\n",
    "\n",
    "\n",
    "if __name__ == '__main__':\n",
    "    while 1:\n",
    "        my_server()\n"
   ]
  },
  {
   "cell_type": "markdown",
   "metadata": {},
   "source": [
    "# Client Code will be same as Above."
   ]
  },
  {
   "cell_type": "markdown",
   "metadata": {},
   "source": []
  }
 ],
 "metadata": {
  "kernelspec": {
   "display_name": "Python 3",
   "language": "python",
   "name": "python3"
  },
  "language_info": {
   "codemirror_mode": {
    "name": "ipython",
    "version": 3
   },
   "file_extension": ".py",
   "mimetype": "text/x-python",
   "name": "python",
   "nbconvert_exporter": "python",
   "pygments_lexer": "ipython3",
   "version": "3.7.3"
  }
 },
 "nbformat": 4,
 "nbformat_minor": 2
}
